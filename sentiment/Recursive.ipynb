{
 "cells": [
  {
   "cell_type": "code",
   "execution_count": 1,
   "metadata": {},
   "outputs": [],
   "source": [
    "using Flux, CuArrays\n",
    "using Flux: onehot, crossentropy, throttle, argmax\n",
    "using Flux.Data: Tree, children, isleaf"
   ]
  },
  {
   "cell_type": "markdown",
   "metadata": {},
   "source": [
    "## Recursive Networks"
   ]
  },
  {
   "cell_type": "markdown",
   "metadata": {},
   "source": [
    "This notebook is about tree-structured data, such as parse trees used to represent sentences of english.\n",
    "\n",
    "Here's an example of a tree, containing letters of the string 'abc'."
   ]
  },
  {
   "cell_type": "code",
   "execution_count": 2,
   "metadata": {},
   "outputs": [
    {
     "data": {
      "text/plain": [
       "('a', ('b', 'c'))"
      ]
     },
     "execution_count": 2,
     "metadata": {},
     "output_type": "execute_result"
    }
   ],
   "source": [
    "('a', ('b', 'c'))"
   ]
  },
  {
   "cell_type": "markdown",
   "metadata": {},
   "source": [
    "The tree has two branches; one ends in `'a'`, and the other is another tree containing `'b'` and `'c'`. In a neural network, we would represent the characters as numeric arrays, perhaps by one-hot encoding them."
   ]
  },
  {
   "cell_type": "code",
   "execution_count": 3,
   "metadata": {},
   "outputs": [
    {
     "data": {
      "text/plain": [
       "(Bool[true, false, false], (Bool[false, true, false], Bool[false, false, true]))"
      ]
     },
     "execution_count": 3,
     "metadata": {},
     "output_type": "execute_result"
    }
   ],
   "source": [
    "alphabet = ['a', 'b', 'c']\n",
    "a, b, c = [onehot(char, alphabet) for char in ('a', 'b', 'c')]\n",
    "tree = (a, (b, c))"
   ]
  },
  {
   "cell_type": "markdown",
   "metadata": {},
   "source": [
    "Simple neural networks deal with data of *fixed size*, like images. But more complex models that deal with language must handle both very long and very short sentences, meaning different sizes and shapes of trees.\n",
    "\n",
    "How can we deal with trees of any size? For simplicity, let's just look at the sub-tree `(b, c)`. One way to simplify the problem is to combine `b` and `c` into a single vector of length 3."
   ]
  },
  {
   "cell_type": "code",
   "execution_count": 4,
   "metadata": {},
   "outputs": [
    {
     "data": {
      "text/plain": [
       "Tracked 3-element Array{Float64,1}:\n",
       " -0.147115\n",
       "  1.31421 \n",
       " -0.35475 "
      ]
     },
     "execution_count": 4,
     "metadata": {},
     "output_type": "execute_result"
    }
   ],
   "source": [
    "shrink = Dense(6, 3)\n",
    "combine(x, y) = shrink([a; b])\n",
    "combine(b, c)"
   ]
  },
  {
   "cell_type": "markdown",
   "metadata": {},
   "source": [
    "We've effectively compressed the tree `(b, c)` into a simpler object that looks a bit like a character encoding; but it stores information about a tree, rather than a single character. Let's put this back into our original tree."
   ]
  },
  {
   "cell_type": "code",
   "execution_count": 5,
   "metadata": {},
   "outputs": [
    {
     "data": {
      "text/plain": [
       "(Bool[true, false, false], param([-0.147115, 1.31421, -0.35475]))"
      ]
     },
     "execution_count": 5,
     "metadata": {},
     "output_type": "execute_result"
    }
   ],
   "source": [
    "bc = combine(b, c)\n",
    "(a, bc)"
   ]
  },
  {
   "cell_type": "markdown",
   "metadata": {},
   "source": [
    "You might notice that our original tree now looks a lot simpler, as it only has two leaves -- and because of that, we can apply the same operation again!"
   ]
  },
  {
   "cell_type": "code",
   "execution_count": 6,
   "metadata": {},
   "outputs": [
    {
     "data": {
      "text/plain": [
       "Tracked 3-element Array{Float64,1}:\n",
       " -0.147115\n",
       "  1.31421 \n",
       " -0.35475 "
      ]
     },
     "execution_count": 6,
     "metadata": {},
     "output_type": "execute_result"
    }
   ],
   "source": [
    "combine(a, bc)"
   ]
  },
  {
   "cell_type": "markdown",
   "metadata": {},
   "source": [
    "We've reduce our tree to a simple vector. You can see how the same logic might apply to trees of any size or shape; indeed, we can create a function to do exactly that, called a *recursive neural network*."
   ]
  },
  {
   "cell_type": "code",
   "execution_count": 7,
   "metadata": {},
   "outputs": [
    {
     "data": {
      "text/plain": [
       "Tracked 3-element Array{Float64,1}:\n",
       " -0.147115\n",
       "  1.31421 \n",
       " -0.35475 "
      ]
     },
     "execution_count": 7,
     "metadata": {},
     "output_type": "execute_result"
    }
   ],
   "source": [
    "net(a) = a\n",
    "net(a::Tuple) = combine(net(a[1]), net(a[2]))\n",
    "\n",
    "net(tree)"
   ]
  },
  {
   "cell_type": "markdown",
   "metadata": {},
   "source": [
    "The `net` function walks over the tree and does what we did above automatically. It works over trees of any shape."
   ]
  },
  {
   "cell_type": "code",
   "execution_count": 8,
   "metadata": {},
   "outputs": [
    {
     "data": {
      "text/plain": [
       "Tracked 3-element Array{Float64,1}:\n",
       " -0.147115\n",
       "  1.31421 \n",
       " -0.35475 "
      ]
     },
     "execution_count": 8,
     "metadata": {},
     "output_type": "execute_result"
    }
   ],
   "source": [
    "net(((b, c), (a, (c, b))))"
   ]
  },
  {
   "cell_type": "markdown",
   "metadata": {},
   "source": [
    "Now we just need to map the tree description created by `net` into a useful form. For example, we might want to carry out a sentiment analysis and ask whether `'abc'` sounds positive or negative. In that case we can follow the recursive net with a simple two-class logistic regression as usual."
   ]
  },
  {
   "cell_type": "code",
   "execution_count": 9,
   "metadata": {},
   "outputs": [
    {
     "data": {
      "text/plain": [
       "Tracked 2-element Array{Float64,1}:\n",
       " 0.487091\n",
       " 0.512909"
      ]
     },
     "execution_count": 9,
     "metadata": {},
     "output_type": "execute_result"
    }
   ],
   "source": [
    "model = Chain(net, Dense(3, 2), softmax)\n",
    "model(tree)"
   ]
  },
  {
   "cell_type": "markdown",
   "metadata": {},
   "source": [
    "## The Stanford Sentiment Treebank"
   ]
  },
  {
   "cell_type": "code",
   "execution_count": 10,
   "metadata": {},
   "outputs": [],
   "source": [
    "include(\"data.jl\");"
   ]
  },
  {
   "cell_type": "markdown",
   "metadata": {},
   "source": [
    "The Stanford Sentiment Treebank stores parse trees for sentences scraped from movie reviews, like the following. Each sub-tree is assigned a sentiment score from 1 to 5 marking how positive it is. Scores can very a lot within the tree, and a model needs to show sensitivity to things like negation; for example, a tree like `(\"not\", X)` will probably have the opposite sentiment of `X` (consider `X = (\"very\", \"good\")`)."
   ]
  },
  {
   "cell_type": "code",
   "execution_count": 11,
   "metadata": {},
   "outputs": [
    {
     "data": {
      "text/plain": [
       "Tree{Any}\n",
       "(3, nothing)\n",
       "├─ (2, nothing)\n",
       "│  ├─ (2, \"The\")\n",
       "│  └─ (2, \"Rock\")\n",
       "└─ (4, nothing)\n",
       "   ├─ (3, nothing)\n",
       "   │  ├─ (2, \"is\")\n",
       "   │  └─ (4, nothing)\n",
       "   │     ├─ (2, \"destined\")\n",
       "   │     └─ (2, nothing)\n",
       "   │        ├─ (2, nothing)\n",
       "   │        │  ├─ (2, nothing)\n",
       "   │        │  │  ├─ (2, nothing)\n",
       "   │        │  │  │  ├─ (2, \"to\")\n",
       "   │        │  │  │  └─ (2, nothing)\n",
       "   │        │  │  │     ├─ (2, \"be\")\n",
       "   │        │  │  │     └─ (2, nothing)\n",
       "   │        │  │  │        ├─ (2, \"the\")\n",
       "   │        │  │  │        └─ (2, nothing)\n",
       "   │        │  │  │           ├─ (2, \"21st\")\n",
       "   │        │  │  │           └─ (2, nothing)\n",
       "   │        │  │  │              ├─ (2, nothing)\n",
       "   │        │  │  │              │  ├─ (2, \"Century\")\n",
       "   │        │  │  │              │  └─ (2, \"'s\")\n",
       "   │        │  │  │              └─ (2, nothing)\n",
       "   │        │  │  │                 ├─ (3, \"new\")\n",
       "   │        │  │  │                 └─ (2, nothing)\n",
       "   │        │  │  │                    ├─ (2, \"``\")\n",
       "   │        │  │  │                    └─ (2, \"Conan\")\n",
       "   │        │  │  └─ (2, \"''\")\n",
       "   │        │  └─ (2, \"and\")\n",
       "   │        └─ (3, nothing)\n",
       "   │           ├─ (2, \"that\")\n",
       "   │           └─ (3, nothing)\n",
       "   │              ├─ (2, \"he\")\n",
       "   │              └─ (3, nothing)\n",
       "   │                 ├─ (2, \"'s\")\n",
       "   │                 └─ (3, nothing)\n",
       "   │                    ├─ (2, \"going\")\n",
       "   │                    └─ (3, nothing)\n",
       "   │                       ├─ (2, \"to\")\n",
       "   │                       └─ (4, nothing)\n",
       "   │                          ├─ (3, nothing)\n",
       "   │                          │  ├─ (2, \"make\")\n",
       "   │                          │  └─ (3, nothing)\n",
       "   │                          │     ├─ (3, nothing)\n",
       "   │                          │     │  ├─ (2, \"a\")\n",
       "   │                          │     │  └─ (3, \"splash\")\n",
       "   │                          │     └─ (2, nothing)\n",
       "   │                          │        ├─ (2, \"even\")\n",
       "   │                          │        └─ (3, \"greater\")\n",
       "   │                          └─ (2, nothing)\n",
       "   │                             ├─ (2, \"than\")\n",
       "   │                             └─ (2, nothing)\n",
       "   │                                ├─ (2, nothing)\n",
       "   │                                │  ├─ (2, nothing)\n",
       "   │                                │  │  ├─ (2, nothing)\n",
       "   │                                │  │  │  ├─ (1, nothing)\n",
       "   │                                │  │  │  │  ├─ (2, \"Arnold\")\n",
       "   │                                │  │  │  │  └─ (2, \"Schwarzenegger\")\n",
       "   │                                │  │  │  └─ (2, \",\")\n",
       "   │                                │  │  └─ (2, nothing)\n",
       "   │                                │  │     ├─ (2, \"Jean-Claud\")\n",
       "   │                                │  │     └─ (2, nothing)\n",
       "   │                                │  │        ├─ (2, \"Van\")\n",
       "   │                                │  │        └─ (2, \"Damme\")\n",
       "   │                                │  └─ (2, \"or\")\n",
       "   │                                └─ (2, nothing)\n",
       "   │                                   ├─ (2, \"Steven\")\n",
       "   │                                   └─ (2, \"Segal\")\n",
       "   └─ (2, \".\")\n"
      ]
     },
     "execution_count": 11,
     "metadata": {},
     "output_type": "execute_result"
    }
   ],
   "source": [
    "traintrees[1]"
   ]
  },
  {
   "cell_type": "markdown",
   "metadata": {},
   "source": [
    "We'll one-hot-encode each word that comes up, with respect to all other words in the training set."
   ]
  },
  {
   "cell_type": "code",
   "execution_count": 12,
   "metadata": {},
   "outputs": [
    {
     "data": {
      "text/plain": [
       "8737-element Flux.OneHotVector:\n",
       " false\n",
       " false\n",
       " false\n",
       " false\n",
       " false\n",
       " false\n",
       " false\n",
       " false\n",
       " false\n",
       " false\n",
       " false\n",
       " false\n",
       " false\n",
       "     ⋮\n",
       " false\n",
       " false\n",
       " false\n",
       " false\n",
       " false\n",
       " false\n",
       " false\n",
       " false\n",
       " false\n",
       " false\n",
       " false\n",
       " false"
      ]
     },
     "execution_count": 12,
     "metadata": {},
     "output_type": "execute_result"
    }
   ],
   "source": [
    "really = onehot(\"really\", alphabet)"
   ]
  },
  {
   "cell_type": "markdown",
   "metadata": {},
   "source": [
    "Here's the sentence above encoded this way."
   ]
  },
  {
   "cell_type": "code",
   "execution_count": 13,
   "metadata": {},
   "outputs": [
    {
     "data": {
      "text/plain": [
       "Tree{Any}\n",
       "(nothing, Bool[false, false, false, true, false])\n",
       "├─ (nothing, Bool[false, false, true, false, false])\n",
       "│  ├─ (Bool[true, false, false, false, false, false, false, false, false, false  …  false, false, false, false, false, false, false, false, false, false], Bool[false, false, true, false, false])\n",
       "│  └─ (Bool[false, true, false, false, false, false, false, false, false, false  …  false, false, false, false, false, false, false, false, false, false], Bool[false, false, true, false, false])\n",
       "└─ (nothing, Bool[false, false, false, false, true])\n",
       "   ├─ (nothing, Bool[false, false, false, true, false])\n",
       "   │  ├─ (Bool[false, false, true, false, false, false, false, false, false, false  …  false, false, false, false, false, false, false, false, false, false], Bool[false, false, true, false, false])\n",
       "   │  └─ (nothing, Bool[false, false, false, false, true])\n",
       "   │     ├─ (Bool[false, false, false, true, false, false, false, false, false, false  …  false, false, false, false, false, false, false, false, false, false], Bool[false, false, true, false, false])\n",
       "   │     └─ (nothing, Bool[false, false, true, false, false])\n",
       "   │        ├─ (nothing, Bool[false, false, true, false, false])\n",
       "   │        │  ├─ (nothing, Bool[false, false, true, false, false])\n",
       "   │        │  │  ├─ (nothing, Bool[false, false, true, false, false])\n",
       "   │        │  │  │  ├─ (Bool[false, false, false, false, true, false, false, false, false, false  …  false, false, false, false, false, false, false, false, false, false], Bool[false, false, true, false, false])\n",
       "   │        │  │  │  └─ (nothing, Bool[false, false, true, false, false])\n",
       "   │        │  │  │     ├─ (Bool[false, false, false, false, false, true, false, false, false, false  …  false, false, false, false, false, false, false, false, false, false], Bool[false, false, true, false, false])\n",
       "   │        │  │  │     └─ (nothing, Bool[false, false, true, false, false])\n",
       "   │        │  │  │        ├─ (Bool[false, false, false, false, false, false, true, false, false, false  …  false, false, false, false, false, false, false, false, false, false], Bool[false, false, true, false, false])\n",
       "   │        │  │  │        └─ (nothing, Bool[false, false, true, false, false])\n",
       "   │        │  │  │           ├─ (Bool[false, false, false, false, false, false, false, true, false, false  …  false, false, false, false, false, false, false, false, false, false], Bool[false, false, true, false, false])\n",
       "   │        │  │  │           └─ (nothing, Bool[false, false, true, false, false])\n",
       "   │        │  │  │              ├─ (nothing, Bool[false, false, true, false, false])\n",
       "   │        │  │  │              │  ├─ (Bool[false, false, false, false, false, false, false, false, true, false  …  false, false, false, false, false, false, false, false, false, false], Bool[false, false, true, false, false])\n",
       "   │        │  │  │              │  └─ (Bool[false, false, false, false, false, false, false, false, false, true  …  false, false, false, false, false, false, false, false, false, false], Bool[false, false, true, false, false])\n",
       "   │        │  │  │              └─ (nothing, Bool[false, false, true, false, false])\n",
       "   │        │  │  │                 ├─ (Bool[false, false, false, false, false, false, false, false, false, false  …  false, false, false, false, false, false, false, false, false, false], Bool[false, false, false, true, false])\n",
       "   │        │  │  │                 └─ (nothing, Bool[false, false, true, false, false])\n",
       "   │        │  │  │                    ├─ (Bool[false, false, false, false, false, false, false, false, false, false  …  false, false, false, false, false, false, false, false, false, false], Bool[false, false, true, false, false])\n",
       "   │        │  │  │                    └─ (Bool[false, false, false, false, false, false, false, false, false, false  …  false, false, false, false, false, false, false, false, false, false], Bool[false, false, true, false, false])\n",
       "   │        │  │  └─ (Bool[false, false, false, false, false, false, false, false, false, false  …  false, false, false, false, false, false, false, false, false, false], Bool[false, false, true, false, false])\n",
       "   │        │  └─ (Bool[false, false, false, false, false, false, false, false, false, false  …  false, false, false, false, false, false, false, false, false, false], Bool[false, false, true, false, false])\n",
       "   │        └─ (nothing, Bool[false, false, false, true, false])\n",
       "   │           ├─ (Bool[false, false, false, false, false, false, false, false, false, false  …  false, false, false, false, false, false, false, false, false, false], Bool[false, false, true, false, false])\n",
       "   │           └─ (nothing, Bool[false, false, false, true, false])\n",
       "   │              ├─ (Bool[false, false, false, false, false, false, false, false, false, false  …  false, false, false, false, false, false, false, false, false, false], Bool[false, false, true, false, false])\n",
       "   │              └─ (nothing, Bool[false, false, false, true, false])\n",
       "   │                 ├─ (Bool[false, false, false, false, false, false, false, false, false, true  …  false, false, false, false, false, false, false, false, false, false], Bool[false, false, true, false, false])\n",
       "   │                 └─ (nothing, Bool[false, false, false, true, false])\n",
       "   │                    ├─ (Bool[false, false, false, false, false, false, false, false, false, false  …  false, false, false, false, false, false, false, false, false, false], Bool[false, false, true, false, false])\n",
       "   │                    └─ (nothing, Bool[false, false, false, true, false])\n",
       "   │                       ├─ (Bool[false, false, false, false, true, false, false, false, false, false  …  false, false, false, false, false, false, false, false, false, false], Bool[false, false, true, false, false])\n",
       "   │                       └─ (nothing, Bool[false, false, false, false, true])\n",
       "   │                          ├─ (nothing, Bool[false, false, false, true, false])\n",
       "   │                          │  ├─ (Bool[false, false, false, false, false, false, false, false, false, false  …  false, false, false, false, false, false, false, false, false, false], Bool[false, false, true, false, false])\n",
       "   │                          │  └─ (nothing, Bool[false, false, false, true, false])\n",
       "   │                          │     ├─ (nothing, Bool[false, false, false, true, false])\n",
       "   │                          │     │  ├─ (Bool[false, false, false, false, false, false, false, false, false, false  …  false, false, false, false, false, false, false, false, false, false], Bool[false, false, true, false, false])\n",
       "   │                          │     │  └─ (Bool[false, false, false, false, false, false, false, false, false, false  …  false, false, false, false, false, false, false, false, false, false], Bool[false, false, false, true, false])\n",
       "   │                          │     └─ (nothing, Bool[false, false, true, false, false])\n",
       "   │                          │        ├─ (Bool[false, false, false, false, false, false, false, false, false, false  …  false, false, false, false, false, false, false, false, false, false], Bool[false, false, true, false, false])\n",
       "   │                          │        └─ (Bool[false, false, false, false, false, false, false, false, false, false  …  false, false, false, false, false, false, false, false, false, false], Bool[false, false, false, true, false])\n",
       "   │                          └─ (nothing, Bool[false, false, true, false, false])\n",
       "   │                             ├─ (Bool[false, false, false, false, false, false, false, false, false, false  …  false, false, false, false, false, false, false, false, false, false], Bool[false, false, true, false, false])\n",
       "   │                             └─ (nothing, Bool[false, false, true, false, false])\n",
       "   │                                ├─ (nothing, Bool[false, false, true, false, false])\n",
       "   │                                │  ├─ (nothing, Bool[false, false, true, false, false])\n",
       "   │                                │  │  ├─ (nothing, Bool[false, false, true, false, false])\n",
       "   │                                │  │  │  ├─ (nothing, Bool[false, true, false, false, false])\n",
       "   │                                │  │  │  │  ├─ (Bool[false, false, false, false, false, false, false, false, false, false  …  false, false, false, false, false, false, false, false, false, false], Bool[false, false, true, false, false])\n",
       "   │                                │  │  │  │  └─ (Bool[false, false, false, false, false, false, false, false, false, false  …  false, false, false, false, false, false, false, false, false, false], Bool[false, false, true, false, false])\n",
       "   │                                │  │  │  └─ (Bool[false, false, false, false, false, false, false, false, false, false  …  false, false, false, false, false, false, false, false, false, false], Bool[false, false, true, false, false])\n",
       "   │                                │  │  └─ (nothing, Bool[false, false, true, false, false])\n",
       "   │                                │  │     ├─ (Bool[false, false, false, false, false, false, false, false, false, false  …  false, false, false, false, false, false, false, false, false, false], Bool[false, false, true, false, false])\n",
       "   │                                │  │     └─ (nothing, Bool[false, false, true, false, false])\n",
       "   │                                │  │        ├─ (Bool[false, false, false, false, false, false, false, false, false, false  …  false, false, false, false, false, false, false, false, false, false], Bool[false, false, true, false, false])\n",
       "   │                                │  │        └─ (Bool[false, false, false, false, false, false, false, false, false, false  …  false, false, false, false, false, false, false, false, false, false], Bool[false, false, true, false, false])\n",
       "   │                                │  └─ (Bool[false, false, false, false, false, false, false, false, false, false  …  false, false, false, false, false, false, false, false, false, false], Bool[false, false, true, false, false])\n",
       "   │                                └─ (nothing, Bool[false, false, true, false, false])\n",
       "   │                                   ├─ (Bool[false, false, false, false, false, false, false, false, false, false  …  false, false, false, false, false, false, false, false, false, false], Bool[false, false, true, false, false])\n",
       "   │                                   └─ (Bool[false, false, false, false, false, false, false, false, false, false  …  false, false, false, false, false, false, false, false, false, false], Bool[false, false, true, false, false])\n",
       "   └─ (Bool[false, false, false, false, false, false, false, false, false, false  …  false, false, false, false, false, false, false, false, false, false], Bool[false, false, true, false, false])\n"
      ]
     },
     "execution_count": 13,
     "metadata": {},
     "output_type": "execute_result"
    }
   ],
   "source": [
    "train[1]"
   ]
  },
  {
   "cell_type": "markdown",
   "metadata": {},
   "source": [
    "To avoid working with 8,000-dimensional vectors, we'll immediately multiple by an *embedding matrix* that simply compresses the word vector."
   ]
  },
  {
   "cell_type": "code",
   "execution_count": 14,
   "metadata": {},
   "outputs": [
    {
     "data": {
      "text/plain": [
       "Tracked 300-element CuArray{Float32,1}:\n",
       " -0.331456 \n",
       "  0.0503743\n",
       "  1.4798   \n",
       "  0.538446 \n",
       " -0.868414 \n",
       " -0.126501 \n",
       " -0.396232 \n",
       " -0.131381 \n",
       "  0.393741 \n",
       "  0.924209 \n",
       " -0.383779 \n",
       " -0.846226 \n",
       " -0.606682 \n",
       "  ⋮        \n",
       "  1.83946  \n",
       " -0.358464 \n",
       "  0.870228 \n",
       "  0.425165 \n",
       "  0.7949   \n",
       "  0.267819 \n",
       "  1.12521  \n",
       " -0.103925 \n",
       " -1.26151  \n",
       " -0.0358396\n",
       " -0.462601 \n",
       "  0.068873 "
      ]
     },
     "execution_count": 14,
     "metadata": {},
     "output_type": "execute_result"
    }
   ],
   "source": [
    "N = 300\n",
    "embedding = cu(param(randn(N, length(alphabet))))\n",
    "\n",
    "really = embedding*really"
   ]
  },
  {
   "cell_type": "markdown",
   "metadata": {},
   "source": [
    "We need a way to combine tokens / phrases, just as in the original example."
   ]
  },
  {
   "cell_type": "code",
   "execution_count": 15,
   "metadata": {},
   "outputs": [
    {
     "data": {
      "text/plain": [
       "Tracked 300-element CuArray{Float32,1}:\n",
       " 1.21657 \n",
       " 0.876515\n",
       " 0.0     \n",
       " 1.00717 \n",
       " 0.0     \n",
       " 0.0     \n",
       " 0.0     \n",
       " 0.169884\n",
       " 0.832975\n",
       " 1.13765 \n",
       " 0.036399\n",
       " 1.21097 \n",
       " 0.0     \n",
       " ⋮       \n",
       " 0.0     \n",
       " 2.02336 \n",
       " 1.44976 \n",
       " 0.232272\n",
       " 0.0     \n",
       " 0.0     \n",
       " 0.473249\n",
       " 0.0     \n",
       " 0.0     \n",
       " 0.0     \n",
       " 1.35685 \n",
       " 0.987563"
      ]
     },
     "execution_count": 15,
     "metadata": {},
     "output_type": "execute_result"
    }
   ],
   "source": [
    "W = cu(Dense(2N, N, relu))\n",
    "combine(a, b) = W([a; b])\n",
    "\n",
    "combine(really, really)"
   ]
  },
  {
   "cell_type": "markdown",
   "metadata": {},
   "source": [
    "Once we've got the embedding (300D vector) for a word or phrase, we want to analyse its sentiment. We'll do that with a simple linear layer."
   ]
  },
  {
   "cell_type": "code",
   "execution_count": 16,
   "metadata": {},
   "outputs": [
    {
     "data": {
      "text/plain": [
       "Tracked 5-element CuArray{Float32,1}:\n",
       " 0.0973401\n",
       " 0.286922 \n",
       " 0.207826 \n",
       " 0.123449 \n",
       " 0.284463 "
      ]
     },
     "execution_count": 16,
     "metadata": {},
     "output_type": "execute_result"
    }
   ],
   "source": [
    "sentiment = cu(Chain(Dense(N, 5), softmax))\n",
    "\n",
    "sentiment(really)"
   ]
  },
  {
   "cell_type": "markdown",
   "metadata": {},
   "source": [
    "Now we can define our forward pass. It's a little more complex than the original example; because we want to predict the sentiment for each sub-tree, we need to carry the loss forward and sum it over the whole tree. So `forward` returns both an embedding an a loss for each subtree."
   ]
  },
  {
   "cell_type": "code",
   "execution_count": 17,
   "metadata": {},
   "outputs": [
    {
     "data": {
      "text/plain": [
       "186.12698f0 (tracked)"
      ]
     },
     "execution_count": 17,
     "metadata": {},
     "output_type": "execute_result"
    }
   ],
   "source": [
    "function forward(tree)\n",
    "  if isleaf(tree)\n",
    "    token, sent = tree.value\n",
    "    phrase = embedding * token\n",
    "    phrase, crossentropy(sentiment(phrase), cu(collect(sent)))\n",
    "  else\n",
    "    _, sent = tree.value\n",
    "    c1, l1 = forward(tree[1])\n",
    "    c2, l2 = forward(tree[2])\n",
    "    phrase = combine(c1, c2)\n",
    "    phrase, l1 + l2 + crossentropy(sentiment(phrase), cu(collect(sent)))\n",
    "  end\n",
    "end\n",
    "\n",
    "loss(tree) = forward(map(cu, tree))[2]\n",
    "\n",
    "loss(train[1])"
   ]
  },
  {
   "cell_type": "code",
   "execution_count": 18,
   "metadata": {},
   "outputs": [
    {
     "data": {
      "text/plain": [
       "(::#13) (generic function with 1 method)"
      ]
     },
     "execution_count": 18,
     "metadata": {},
     "output_type": "execute_result"
    }
   ],
   "source": [
    "opt = ADAM(params(embedding, W, sentiment))\n",
    "evalcb = () -> @show loss(train[1])"
   ]
  },
  {
   "cell_type": "code",
   "execution_count": null,
   "metadata": {
    "scrolled": true
   },
   "outputs": [
    {
     "name": "stdout",
     "output_type": "stream",
     "text": [
      "loss(train[1]) = 138.38686f0 (tracked)\n",
      "loss(train[1]) = 97.96852f0 (tracked)\n",
      "loss(train[1]) = 88.88923f0 (tracked)\n",
      "loss(train[1]) = 88.09165f0 (tracked)\n",
      "loss(train[1]) = 83.77608f0 (tracked)\n",
      "loss(train[1]) = 79.10224f0 (tracked)\n",
      "loss(train[1]) = 75.20916f0 (tracked)\n",
      "loss(train[1]) = 70.89377f0 (tracked)\n",
      "loss(train[1]) = 71.374725f0 (tracked)\n",
      "loss(train[1]) = 70.74858f0 (tracked)\n",
      "loss(train[1]) = 70.881355f0 (tracked)\n",
      "loss(train[1]) = 70.56669f0 (tracked)\n",
      "loss(train[1]) = 69.135155f0 (tracked)\n",
      "loss(train[1]) = 66.57009f0 (tracked)\n",
      "loss(train[1]) = 66.10199f0 (tracked)\n",
      "loss(train[1]) = 66.79412f0 (tracked)\n",
      "loss(train[1]) = 67.255424f0 (tracked)\n",
      "loss(train[1]) = 68.62694f0 (tracked)\n",
      "loss(train[1]) = 63.694664f0 (tracked)\n",
      "loss(train[1]) = 65.513145f0 (tracked)\n",
      "loss(train[1]) = 67.66066f0 (tracked)\n",
      "loss(train[1]) = 66.7731f0 (tracked)\n",
      "loss(train[1]) = 63.33839f0 (tracked)\n",
      "loss(train[1]) = 62.359272f0 (tracked)\n",
      "loss(train[1]) = 61.217785f0 (tracked)\n",
      "loss(train[1]) = 62.65793f0 (tracked)\n",
      "loss(train[1]) = 62.364983f0 (tracked)\n",
      "loss(train[1]) = 61.94843f0 (tracked)\n",
      "loss(train[1]) = 59.66541f0 (tracked)\n",
      "loss(train[1]) = 59.83697f0 (tracked)\n",
      "loss(train[1]) = 56.296112f0 (tracked)\n"
     ]
    }
   ],
   "source": [
    "Flux.train!(loss, zip(train), opt,\n",
    "            cb = throttle(evalcb, 10))"
   ]
  },
  {
   "cell_type": "code",
   "execution_count": null,
   "metadata": {},
   "outputs": [],
   "source": [
    "# open(io -> serialize(io, (alphabet, embedding, W)), \"model-39.jls\", \"w\")"
   ]
  },
  {
   "cell_type": "markdown",
   "metadata": {},
   "source": [
    "Our prediction function is very simple, modelled on the original example."
   ]
  },
  {
   "cell_type": "code",
   "execution_count": null,
   "metadata": {},
   "outputs": [],
   "source": [
    "phrase(x) = embedding*onehot(x, alphabet)\n",
    "phrase(x::Tuple) = combine(phrase(x[1]), phrase(x[2]))\n",
    "predict = Chain(phrase, sentiment, argmax)"
   ]
  },
  {
   "cell_type": "markdown",
   "metadata": {},
   "source": [
    "As predicted, the network is able to learn that \"not\" negates, and can match our intuition about how positive or negative a phrase sounds."
   ]
  },
  {
   "cell_type": "code",
   "execution_count": null,
   "metadata": {},
   "outputs": [],
   "source": [
    "predict((\"very\", \"good\"))"
   ]
  },
  {
   "cell_type": "code",
   "execution_count": null,
   "metadata": {},
   "outputs": [],
   "source": [
    "predict((\"not\", (\"very\", \"good\")))"
   ]
  },
  {
   "cell_type": "code",
   "execution_count": null,
   "metadata": {},
   "outputs": [],
   "source": [
    "predict((\"utterly\", \"awful\"))"
   ]
  },
  {
   "cell_type": "code",
   "execution_count": null,
   "metadata": {},
   "outputs": [],
   "source": [
    "predict((\"not\", (\"utterly\", \"awful\")))"
   ]
  },
  {
   "cell_type": "code",
   "execution_count": null,
   "metadata": {},
   "outputs": [],
   "source": []
  }
 ],
 "metadata": {
  "kernelspec": {
   "display_name": "Julia 0.6.3-pre",
   "language": "julia",
   "name": "julia-0.6"
  },
  "language_info": {
   "file_extension": ".jl",
   "mimetype": "application/julia",
   "name": "julia",
   "version": "0.6.3"
  }
 },
 "nbformat": 4,
 "nbformat_minor": 2
}
