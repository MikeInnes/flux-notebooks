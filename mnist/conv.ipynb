{
 "cells": [
  {
   "cell_type": "code",
   "execution_count": 1,
   "metadata": {},
   "outputs": [
    {
     "name": "stderr",
     "output_type": "stream",
     "text": [
      "WARNING: Method definition midpoints(Base.Range{T} where T) in module Base at deprecated.jl:56 overwritten in module StatsBase at /home/mikeinnes/.julia/v0.6/StatsBase/src/hist.jl:535.\n",
      "WARNING: Method definition midpoints(AbstractArray{T, 1} where T) in module Base at deprecated.jl:56 overwritten in module StatsBase at /home/mikeinnes/.julia/v0.6/StatsBase/src/hist.jl:533.\n"
     ]
    }
   ],
   "source": [
    "using Flux, Flux.Data.MNIST, Images\n",
    "using Flux: onehotbatch, argmax, crossentropy, throttle\n",
    "using Base.Iterators: repeated, partition\n",
    "using CuArrays"
   ]
  },
  {
   "cell_type": "code",
   "execution_count": 68,
   "metadata": {
    "scrolled": true
   },
   "outputs": [
    {
     "data": {
      "text/html": [
       "<table><tbody><tr><td style='text-align:center;vertical-align:middle; margin: 0.5em;border:1px #90999f solid;border-collapse:collapse'><img style='max-width: 100px; max-height:100px;display:inline' src=\"data:image/png;base64,iVBORw0KGgoAAAANSUhEUgAAAHAAAABwCAAAAADji6uXAAAABGdBTUEAALGPC/xhBQAAAAJiS0dEAP+Hj8y/AAACCklEQVRo3u3aT4iNURjH8c8gC/Kn2ZhSEotRIhYoKUmSYjGxoWywQ1Y2dhaksEAWs1IWssWK8nehbk3+bMjenx2DNMhg8byT697bvXNninNP51tvb+c973t//d6nc97nOedSKBQKhUKh0Pv0dfvATCyoax/BHAziMM5hL77iDE42PD/jXzvMX3BWpxuWYDY2YhMWYneL+17jIobwGc/xMAWH+Qu2HYdrcdff464VP3EAX6r2W3zAqxQc5i/YNob9qGFZi74aRrEF33WO839zmL9g27n0PY5jJ56KuRKeYZsYdytxLGWH+QtOKqeZL75xwziI/bjWKw7zF+yY08Cn6vyxOh/CdfEdTN5h/oJd1RZzcQubsQN3esFh/oJd14fL8UTkM/cxgsv4larD/AW7jiFRA17BvKp9AlfxLkWH+QtOKYawCuextWoP4xTepOYwf8Epx5BYs9klxmQf7omaIymH+QtOK4YTfBMJ7g9sx4OUHOYvOKnaohWrsQfr6n7kBR6l5jB/wa5jOIijIq8ZqLs+LnKaTjVj/q803bl0APvE/tLShr4Rkc/cTNFh/oIdY7hIrIlewoqGvhrO4obJr9nk/0rTiWG/qBfWaN63eCzqitsYS91h/oJNMdwg9irWY3FD3xgu4LQ/e4XJO8xfsCmnGaqOCV6KNdJx8T+L0V5zmL9goVAoFKbPbwxNTGDM4nx8AAAAAElFTkSuQmCC\"></td><td style='text-align:center;vertical-align:middle; margin: 0.5em;border:1px #90999f solid;border-collapse:collapse'><img style='max-width: 100px; max-height:100px;display:inline' src=\"data:image/png;base64,iVBORw0KGgoAAAANSUhEUgAAAHAAAABwCAAAAADji6uXAAAABGdBTUEAALGPC/xhBQAAAAJiS0dEAP+Hj8y/AAACFklEQVRo3u3ZT4hNURwH8M8MeY1kFjbUZMcOrzcRK7JEURaSzFZJTZGyQFYW/ixQoqSIIlkQyWbqrWz829tJKUzCpChzLc6VR3PffW+UzpzOt07dd8793W/f8+33O797HxkZGRkZGRkD/xI8igMYw3VcwPOamMH/rTB9wll72MQEFnfMfcKS2BSmTzh/NkHrcBfDKPAF3wX/NuBZ+TsKhekT9pWHC9HCDYyUwYVQP0/hVjl3DCdjUZg+YV95eBm7Z5hvYRHa2IRVMSlMn7BnD0ex1e/EbeMBTuMtXuAjNuue3OlvaZy1tOnP/uWRkI8bsRpX8L5c+4Gv5dpMPWr6WxpfHq7EYaF/+SDk3DVM4WE5/sYQDmFPDArTJ+zqYQNnsEXoPcfwVPCoDstjUZg+YVcPW4J/sF04A+ecwvQJu3p4Vjgw23r3bxDTqg/a9Lc0Hg+3Cb1Mgft9PHC6jHkZi8L0CSs9HMICvMPtHh7UwInyegJHYlGYPmFtX/pN6EW7oYGjQv/6RqjBU7EoTJ+w1sO6OtoUvNuFe9gZm8L0CSs9HCjHDoxX3HNQyL9h3BTePaJTmD5hpYdFOZbiPK5iEuuxF2uE796v8RgXY1WYPmFtLZ2H/UKN/IwVHWtPhP7leMwK0yes/F46gjtY23FjUV5PCv8zjesf6W9pPB7CMuwTzrxfHp7DJbyaKwrTJ8zIyMjIyMjgJ0POU6VTCZYSAAAAAElFTkSuQmCC\"></td><td style='text-align:center;vertical-align:middle; margin: 0.5em;border:1px #90999f solid;border-collapse:collapse'><img style='max-width: 100px; max-height:100px;display:inline' src=\"data:image/png;base64,iVBORw0KGgoAAAANSUhEUgAAAHAAAABwCAAAAADji6uXAAAABGdBTUEAALGPC/xhBQAAAAJiS0dEAP+Hj8y/AAABpUlEQVRo3u3YsUuVURzG8Y9yCVoSCxEhggZps6khBwsuRLQ3KW4a9G80Bc5NDg41Rjo1NDlZpKORCUFSQ1sgJIFQw3vA3nuvJO+95Lk/zrMc7rnvfb7nOQ/nfbkvRUVFRUVFRUXDr5FBG7bxAnew1+P70f+dMD6w1Tkxhyt41dDwFrZzShgf2NXhXUxr1uEoruOa0w94/C09/w4XsdXQbApLeI6PuSSMD+zqsJ8VrKZxP6eE8YG1Dmcw2YfZWBrf5JQwPrDW4QNcbGg0qXoWwrecEsYH1jq8kcbdBkYrqh4/4TCnhPGBrV6T78/440u4jwXcS3NP8COnhPGBPTu83PH5ZlpZG1dxAfNp7gjv8CuZ7eSWMD6w9jfuGR6pztHBX/Mz6cJj/MQHVW/b2MR3fMW4qt+sEsYH1s7hY3zBbMdFB9hQdfe2h8kyJvA5x4TxgV330qcNTNppfJljwvjAVv8WJ1rPMWEBFmD+wIGdwxHVu/J/vWuNv6XD2+HvM64+/pYOb4dwG2u5JYwPHOi9NMuE8YED6fA1HuaaMD6wqKioqKh//QE3ki5sgi691wAAAABJRU5ErkJg\"></td><td style='text-align:center;vertical-align:middle; margin: 0.5em;border:1px #90999f solid;border-collapse:collapse'><img style='max-width: 100px; max-height:100px;display:inline' src=\"data:image/png;base64,iVBORw0KGgoAAAANSUhEUgAAAHAAAABwCAAAAADji6uXAAAABGdBTUEAALGPC/xhBQAAAAJiS0dEAP+Hj8y/AAABf0lEQVRo3u3YsUocURiG4cclYGGhIYJYZa9AvIAtUiRikcLKlOYG0glapLELpBJJHbFP4QUo2ix4B9oIKVLEysLKwqSYgV2FZGd2F+fMz/mqc2CYd18+/jOHJScnJycnJyen/ZmZ1os+Yw8dvMH5P57rPLdhfOCLabzkI3bxUO7/pGQYHziVDl9jNlXD+MCJO3yLT+X6Eu/xOyXD+MCJOuzhEPPl/it+pmYYHzhRh1tYLtdnOErRMD5w7HvpouLMfMAtPuA0RcP4wLHmsIsfQ/sD1fprxDA+cKwO17FSrk+wn7JhfGDts3RDcY+ZQx+b/n8PbdwwPrDWHHY9PkOv1euvEcP4wFod7hj8FwNf2mAYH1i5w1WsDe2PcdUGw/jAyt/DG7ws1xeKe81dGwzjAyvP4SuDc/Sb8fprxDA+sFKH35/8sn6bDOMDR3a4ineKGbxXzGDdu2ijhvGBIztcwFK5/oXtthlmYAamDxw5h5eK71+vrYbxgTk5OTk5k+cvQ+8sXnIFcoMAAAAASUVORK5C\"></td><td style='text-align:center;vertical-align:middle; margin: 0.5em;border:1px #90999f solid;border-collapse:collapse'><img style='max-width: 100px; max-height:100px;display:inline' src=\"data:image/png;base64,iVBORw0KGgoAAAANSUhEUgAAAHAAAABwCAAAAADji6uXAAAABGdBTUEAALGPC/xhBQAAAAJiS0dEAP+Hj8y/AAAB8ElEQVRo3u3Zz4uNURzH8ddI+ZEkoWwsDBtkI1kZG7GTWIwFhZ2FnZKSjfEH2NiwIKlpRMlsZOPXZspOGSVWmo2SlEiZa/E9t5mm5s69j5p77ul8Nvf5dZ73/dzP/T7nx0NVVVVVVVVVVVVVVdX/a6jXBgdwBiPYnY5dwgwO4j6mOrRfsdwOywf2lOEobmJTavgCm7Fr3s0e4lRODssHruz2ov24jbV4het4g1WYwJF07dvcHJYP7CrD07iTtp+LevyR9kfN5fcF93JzWD5wyWfpGK6ghVu4ai4/mMbOtH0ST3JzWD6wYx1eE/n9wTNcxq90brWov23ijzBm6fz64rB84KJ1uAEfxPhlEsfnnduBB9iX9h/hPH7m6LB84KIZbhHzBdiO3ziHY9iDdeL52sIJPM3VYfnAjnU4LeYOQyKrtmbSsa34mj6zdVg+cNH+8Lt4fk5iIz6J/u4uvmFcZDeeu8PygR3HNFOiDhdqBIcwi8+5Oywf2NX8cKHWiPxaah1mAOx5vbStvyLDdp+YrcPygY3q8OggOSwf2CjD4UFyWD6wUYav0zedHQSH5QMbZfgOH8Xcf1jtD/sMbDymOSveZbzERbzP1WH5wMYZrhfvDQ/jsViHq+ulfQE2zpDI8QYuYK/uarH8n3TZgVWDr38TiEiompzh9AAAAABJRU5ErkJg\"></td><td style='text-align:center;vertical-align:middle; margin: 0.5em;border:1px #90999f solid;border-collapse:collapse'><img style='max-width: 100px; max-height:100px;display:inline' src=\"data:image/png;base64,iVBORw0KGgoAAAANSUhEUgAAAHAAAABwCAAAAADji6uXAAAABGdBTUEAALGPC/xhBQAAAAJiS0dEAP+Hj8y/AAACHklEQVRo3u3YTYiNYRgG4Isx02QMJb/LKYqMBZHGho2I8leS2CjUbCbKTzYaSqIsZM/SiqwmSZQyFhazpFBTytSkKKGZ/C2ebzqn6Zj5jDLfvL13ffX+nOfc333unvc8z0tGRkZGRkZGxszHrH8Jbsc87MISXMfIJDGz/7fC9AnnTCWoA2fRhc669WXoqZrC9An/Kg9X4SSOoLUIfofPWI0P2IpXVVKYPmGpPFyAqzgozs8xvMZ2tOAlFhVPpRSmT1jKw304Nm7tLbaJPFxZZYXpE5by8EDdeBAvcE74R5yxlVWYPmEpD4/jBB7iDYbH7S+tssL0CUt5+B69E+x3VVlh+oRT6i160Cbq0l9YW6z343nVFKZPWLq3mIs1uICddW/7sxgPYYuodSqlMH3CSfOwGetwF8vxTfjVjx3CW2jCftzAaJUUpk84YR62CJ/uFfOLeIxnWFiMO8fFHMZ9f75zS/8nrY6HzbiEM8X8gbif+YTF6MN6kXPXhJd7is8+KtY+FvOB6VSYPmFDD5twGafxBedxR3iyETexQfQZ3XiC+dgs8nC3qHmIHrJjOhWmT9jQw27h01e1vnATjop6plXk6G21Pr8eh4SXcErcyU2bwvQJG3o4JM7LEXF/3YYVdfu9uIIfM0Fh+oQNPRxQ6/nG0Ienol4ZxPeZojB9woYetmOvqFmGcUv8F46W/toKKUyfMCMjIyMjIyMjBfwGZqBSo4gEOM8AAAAASUVORK5C\"></td><td style='text-align:center;vertical-align:middle; margin: 0.5em;border:1px #90999f solid;border-collapse:collapse'><img style='max-width: 100px; max-height:100px;display:inline' src=\"data:image/png;base64,iVBORw0KGgoAAAANSUhEUgAAAHAAAABwCAAAAADji6uXAAAABGdBTUEAALGPC/xhBQAAAAJiS0dEAP+Hj8y/AAABMUlEQVRo3u3ZMUoEQRCF4U8xMvIEImqgiUbeQg2NjDUTLyB4BcFAvMNewjPouggGxsaGzhrswk7aLa49Rb1oGqb5+/WjeqoZUqlUKpVKrZROuMMVnnGMj8L5q8t2GB+4VvLyFs7RYR97MsMGgEUZfuIJp0NyGB9YlOGX8rr7d4fxgUUZbuBwaA7jA4syXMdmb3yEibLajL+lSwcW96U3uMV0Pr7GfcsO4wOLM4RvmWFDwKKztL/KbigO4wOrMuws6rB5hwlMYAIT+Peq6mmmFt/DEc5adhgf+Ou+FA4wbtVhfGBVT/OAy974wuyO0aTD+MCqDCdDchgfWHWWwht2eqvexXuLDuMDq+oQXrA9fy6578ff0uFk+IiTITiMD6zOcIxXs//5TTuMD0ylUqlUKsUP6Zok4bh2w2UAAAAASUVORK5C\"></td><td style='text-align:center;vertical-align:middle; margin: 0.5em;border:1px #90999f solid;border-collapse:collapse'><img style='max-width: 100px; max-height:100px;display:inline' src=\"data:image/png;base64,iVBORw0KGgoAAAANSUhEUgAAAHAAAABwCAAAAADji6uXAAAABGdBTUEAALGPC/xhBQAAAAJiS0dEAP+Hj8y/AAAB/UlEQVRo3u3ZPWhUQRQF4C8hQbBQTKeFKIKNWmgn+FeYBES0EgJRIoqdoqVa2wpWWggW9kKiGBBBBLEPaGulhQo2CRj/MBbzJPszb/eFgDsOc6rZd+/s2cPhzt77hoKCgoKCgoKC/x9Da0nejVEcwV38juTMYQo/ar5j+F8rzJ+wkYd7cB5nql+4rdq4UpP/ENewmILC/AkbefgYJyIbV3rsOYrXKSjMn3CkSdJzqx5+xgPtHh4UPEtSYf6EjepwBFur9U987IhvwlvhjIVZTON7CgrzJ2xUh7/wvkd8EltaPn8Q928gCvMnXFNfGsMULmk/S8fE+5mBKMyfsFEdxjCNG9glzBt/sSCct8kozJ+wkYc7cA7HW54d0t6XLuI65rGcksL8CfuepfuEuX17ZGOrh09xOkWF+RM2qsMh3WYPa39Pc1KYP+ZTU5g/YV8P3+AYzuIZvnXEL+JKygrzJ1x3X7oZX6r1KaUOU6zDfphMXWH+hLUejmICL9T3mRdwJ3WF+RNGPTyMmxjHTt3vaMaE/uU2NlbPlvWeKQamMH/C6P/hAvZW63tY6oiP44DV2eJllfcoRYX5E/b1sNfGT3iCq7r71WQU5k8Y9XA/LmMmEnuHr3iF+8LskbTC/AlrZ4sNwt39LeFOYla4R5zTffeUtML8CQsKCgoK1o8/0wNI8/f1PCQAAAAASUVORK5C\"></td><td style='text-align:center;vertical-align:middle; margin: 0.5em;border:1px #90999f solid;border-collapse:collapse'><img style='max-width: 100px; max-height:100px;display:inline' src=\"data:image/png;base64,iVBORw0KGgoAAAANSUhEUgAAAHAAAABwCAAAAADji6uXAAAABGdBTUEAALGPC/xhBQAAAAJiS0dEAP+Hj8y/AAABIUlEQVRo3u3YsUkEURRG4W/FRUwU0UAwMDDRUM20BRHrMLQIa7AKCzARNLADMdVAxEgjQRbWZBqYN+DeudwDy4uGw+FneMNSFEVRFEUxfiZ9H5jiBNc4bRAu/XdhfmHvDbfwiQ8cdWfowvzC5dYHt7tfbbhwYfOGvV/gRRXmFzZvOMfqGArzC5s3hGM8RS/ML+y94QzfWMfeGArzC3tv+IVHnI2lsIQljC8cdB9ujqEwv3DQhudjKMwvbNrwXt2HgYRNG7515xS7eI1cmF/YtOGsOydYiV6YX9j6l5ln7OMGl5EL8wubv2nusIOr6IX5hYO+S+f4jV6YXzhowzVc4DZyYX5h8334jg0c4iVyYX5h83v4gAP8RC/MLyyKoiiG8we6whp5hPrO7wAAAABJRU5ErkJg\"></td><td style='text-align:center;vertical-align:middle; margin: 0.5em;border:1px #90999f solid;border-collapse:collapse'><img style='max-width: 100px; max-height:100px;display:inline' src=\"data:image/png;base64,iVBORw0KGgoAAAANSUhEUgAAAHAAAABwCAAAAADji6uXAAAABGdBTUEAALGPC/xhBQAAAAJiS0dEAP+Hj8y/AAAB7klEQVRo3u3ZPWgUQRjG8Z8SQbQISBoRDShaqAHtxMKIlbVNiAQJaqHWAQs7RbARCysDShCxEPEjfQKChaCNkEJEK0VEQa1slMRiVlhPL+xC4s29zAPH7c3czf8eXp7ZmVmKioqKioqK1qzWwHPV4Ec62tf+b4fxgQOrMeg1HMTtHBzGB654Da/gDH5IWey5w/jAFa/hAazDU9zLwWF8YOsaHsIFjONLR9849uItpnJxGB/Yek3zCjsxKmWtrgXswTE8zMVhfGDrHH7HEtZ3tO/DNiz+o6+nDuMDW9XwEkakLL6stW/EeWzAM9zPyWF8YOO5dCueYxBH8aTWdwOn8EHKYlYO4wMb5XAEDzCE6/6s3xQmq+vLOTqMD1w2hwOYwM3qny1KWZzFVWzCI+zHHZzM0WF84LI1nMBM7YtvsKP6/AJbsBmfq/csHcYHdq3hmJStn/iG4/gq5W+09uOl6vURh6W9YVYO4wO71nAew9I97latfTempfOY3zWEuziRo8P4wK5rmsfSOuZdR/uQtI8nncssVNfvc3UYH9jqnGZQyuVZac7c1Q8O4wNb7fHPSc8kPvn7uWC2DuMDG9dwGKel+9+05nNnzx3GBzaeS19ju7RWnewnh/GBjXM4g4vS/r6vHMYHFhUVFRUVFfELnpNF7E6QgmcAAAAASUVORK5C\"></td></tr></tbody></table>"
      ],
      "text/plain": [
       "10-element Array{Array{ColorTypes.Gray{FixedPointNumbers.Normed{UInt8,8}},2},1}:\n",
       " ColorTypes.Gray{FixedPointNumbers.Normed{UInt8,8}}[Gray{N0f8}(0.0) Gray{N0f8}(0.0) … Gray{N0f8}(0.0) Gray{N0f8}(0.0); Gray{N0f8}(0.0) Gray{N0f8}(0.0) … Gray{N0f8}(0.0) Gray{N0f8}(0.0); … ; Gray{N0f8}(0.0) Gray{N0f8}(0.0) … Gray{N0f8}(0.0) Gray{N0f8}(0.0); Gray{N0f8}(0.0) Gray{N0f8}(0.0) … Gray{N0f8}(0.0) Gray{N0f8}(0.0)]\n",
       " ColorTypes.Gray{FixedPointNumbers.Normed{UInt8,8}}[Gray{N0f8}(0.0) Gray{N0f8}(0.0) … Gray{N0f8}(0.0) Gray{N0f8}(0.0); Gray{N0f8}(0.0) Gray{N0f8}(0.0) … Gray{N0f8}(0.0) Gray{N0f8}(0.0); … ; Gray{N0f8}(0.0) Gray{N0f8}(0.0) … Gray{N0f8}(0.0) Gray{N0f8}(0.0); Gray{N0f8}(0.0) Gray{N0f8}(0.0) … Gray{N0f8}(0.0) Gray{N0f8}(0.0)]\n",
       " ColorTypes.Gray{FixedPointNumbers.Normed{UInt8,8}}[Gray{N0f8}(0.0) Gray{N0f8}(0.0) … Gray{N0f8}(0.0) Gray{N0f8}(0.0); Gray{N0f8}(0.0) Gray{N0f8}(0.0) … Gray{N0f8}(0.0) Gray{N0f8}(0.0); … ; Gray{N0f8}(0.0) Gray{N0f8}(0.0) … Gray{N0f8}(0.0) Gray{N0f8}(0.0); Gray{N0f8}(0.0) Gray{N0f8}(0.0) … Gray{N0f8}(0.0) Gray{N0f8}(0.0)]\n",
       " ColorTypes.Gray{FixedPointNumbers.Normed{UInt8,8}}[Gray{N0f8}(0.0) Gray{N0f8}(0.0) … Gray{N0f8}(0.0) Gray{N0f8}(0.0); Gray{N0f8}(0.0) Gray{N0f8}(0.0) … Gray{N0f8}(0.0) Gray{N0f8}(0.0); … ; Gray{N0f8}(0.0) Gray{N0f8}(0.0) … Gray{N0f8}(0.0) Gray{N0f8}(0.0); Gray{N0f8}(0.0) Gray{N0f8}(0.0) … Gray{N0f8}(0.0) Gray{N0f8}(0.0)]\n",
       " ColorTypes.Gray{FixedPointNumbers.Normed{UInt8,8}}[Gray{N0f8}(0.0) Gray{N0f8}(0.0) … Gray{N0f8}(0.0) Gray{N0f8}(0.0); Gray{N0f8}(0.0) Gray{N0f8}(0.0) … Gray{N0f8}(0.0) Gray{N0f8}(0.0); … ; Gray{N0f8}(0.0) Gray{N0f8}(0.0) … Gray{N0f8}(0.0) Gray{N0f8}(0.0); Gray{N0f8}(0.0) Gray{N0f8}(0.0) … Gray{N0f8}(0.0) Gray{N0f8}(0.0)]\n",
       " ColorTypes.Gray{FixedPointNumbers.Normed{UInt8,8}}[Gray{N0f8}(0.0) Gray{N0f8}(0.0) … Gray{N0f8}(0.0) Gray{N0f8}(0.0); Gray{N0f8}(0.0) Gray{N0f8}(0.0) … Gray{N0f8}(0.0) Gray{N0f8}(0.0); … ; Gray{N0f8}(0.0) Gray{N0f8}(0.0) … Gray{N0f8}(0.0) Gray{N0f8}(0.0); Gray{N0f8}(0.0) Gray{N0f8}(0.0) … Gray{N0f8}(0.0) Gray{N0f8}(0.0)]\n",
       " ColorTypes.Gray{FixedPointNumbers.Normed{UInt8,8}}[Gray{N0f8}(0.0) Gray{N0f8}(0.0) … Gray{N0f8}(0.0) Gray{N0f8}(0.0); Gray{N0f8}(0.0) Gray{N0f8}(0.0) … Gray{N0f8}(0.0) Gray{N0f8}(0.0); … ; Gray{N0f8}(0.0) Gray{N0f8}(0.0) … Gray{N0f8}(0.0) Gray{N0f8}(0.0); Gray{N0f8}(0.0) Gray{N0f8}(0.0) … Gray{N0f8}(0.0) Gray{N0f8}(0.0)]\n",
       " ColorTypes.Gray{FixedPointNumbers.Normed{UInt8,8}}[Gray{N0f8}(0.0) Gray{N0f8}(0.0) … Gray{N0f8}(0.0) Gray{N0f8}(0.0); Gray{N0f8}(0.0) Gray{N0f8}(0.0) … Gray{N0f8}(0.0) Gray{N0f8}(0.0); … ; Gray{N0f8}(0.0) Gray{N0f8}(0.0) … Gray{N0f8}(0.0) Gray{N0f8}(0.0); Gray{N0f8}(0.0) Gray{N0f8}(0.0) … Gray{N0f8}(0.0) Gray{N0f8}(0.0)]\n",
       " ColorTypes.Gray{FixedPointNumbers.Normed{UInt8,8}}[Gray{N0f8}(0.0) Gray{N0f8}(0.0) … Gray{N0f8}(0.0) Gray{N0f8}(0.0); Gray{N0f8}(0.0) Gray{N0f8}(0.0) … Gray{N0f8}(0.0) Gray{N0f8}(0.0); … ; Gray{N0f8}(0.0) Gray{N0f8}(0.0) … Gray{N0f8}(0.0) Gray{N0f8}(0.0); Gray{N0f8}(0.0) Gray{N0f8}(0.0) … Gray{N0f8}(0.0) Gray{N0f8}(0.0)]\n",
       " ColorTypes.Gray{FixedPointNumbers.Normed{UInt8,8}}[Gray{N0f8}(0.0) Gray{N0f8}(0.0) … Gray{N0f8}(0.0) Gray{N0f8}(0.0); Gray{N0f8}(0.0) Gray{N0f8}(0.0) … Gray{N0f8}(0.0) Gray{N0f8}(0.0); … ; Gray{N0f8}(0.0) Gray{N0f8}(0.0) … Gray{N0f8}(0.0) Gray{N0f8}(0.0); Gray{N0f8}(0.0) Gray{N0f8}(0.0) … Gray{N0f8}(0.0) Gray{N0f8}(0.0)]"
      ]
     },
     "execution_count": 68,
     "metadata": {},
     "output_type": "execute_result"
    }
   ],
   "source": [
    "imgs = MNIST.images()\n",
    "\n",
    "labels = collect(onehotbatch(MNIST.labels(), 0:9))\n",
    "\n",
    "imgs[1:10]"
   ]
  },
  {
   "cell_type": "code",
   "execution_count": 69,
   "metadata": {},
   "outputs": [],
   "source": [
    "# Partition into batches of size 1,000\n",
    "train = [(cat(4, float.(imgs[i])...), labels[:,i])\n",
    "         for i in partition(1:60_000, 1000)]\n",
    "\n",
    "# Prepare test set (first 1,000 images)\n",
    "tX = cat(4, float.(MNIST.images(:test)[1:1000])...)\n",
    "tY = onehotbatch(MNIST.labels(:test)[1:1000], 0:9);"
   ]
  },
  {
   "cell_type": "code",
   "execution_count": 79,
   "metadata": {},
   "outputs": [
    {
     "data": {
      "text/plain": [
       "loss (generic function with 1 method)"
      ]
     },
     "execution_count": 79,
     "metadata": {},
     "output_type": "execute_result"
    }
   ],
   "source": [
    "m = Chain(\n",
    "  Conv2D((2,2), 1=>16, relu),\n",
    "  x -> maxpool2d(x, 2),\n",
    "  Conv2D((2,2), 16=>8, relu),\n",
    "  x -> maxpool2d(x, 2),\n",
    "  x -> reshape(x, :, size(x, 4)),\n",
    "  Dense(288, 10), softmax)\n",
    "\n",
    "loss(x, y) = crossentropy(m(x), y)"
   ]
  },
  {
   "cell_type": "code",
   "execution_count": 80,
   "metadata": {},
   "outputs": [],
   "source": [
    "if isdefined(:CuArrays)\n",
    "    m = cu(m)\n",
    "    train = cu.(train)\n",
    "    labels = cu(labels)\n",
    "    tX, tY = cu((tX, tY))\n",
    "end;"
   ]
  },
  {
   "cell_type": "code",
   "execution_count": 81,
   "metadata": {},
   "outputs": [
    {
     "data": {
      "image/png": "[encoded data removed]",
      "text/plain": [
       "10×100 Array{Gray{Float32},2}:\n",
       " Gray{Float32}(0.0)  Gray{Float32}(1.0)  …  Gray{Float32}(0.0)\n",
       " Gray{Float32}(0.0)  Gray{Float32}(0.0)     Gray{Float32}(1.0)\n",
       " Gray{Float32}(0.0)  Gray{Float32}(0.0)     Gray{Float32}(0.0)\n",
       " Gray{Float32}(0.0)  Gray{Float32}(0.0)     Gray{Float32}(0.0)\n",
       " Gray{Float32}(0.0)  Gray{Float32}(0.0)     Gray{Float32}(0.0)\n",
       " Gray{Float32}(1.0)  Gray{Float32}(0.0)  …  Gray{Float32}(0.0)\n",
       " Gray{Float32}(0.0)  Gray{Float32}(0.0)     Gray{Float32}(0.0)\n",
       " Gray{Float32}(0.0)  Gray{Float32}(0.0)     Gray{Float32}(0.0)\n",
       " Gray{Float32}(0.0)  Gray{Float32}(0.0)     Gray{Float32}(0.0)\n",
       " Gray{Float32}(0.0)  Gray{Float32}(0.0)     Gray{Float32}(0.0)"
      ]
     },
     "execution_count": 81,
     "metadata": {},
     "output_type": "execute_result"
    }
   ],
   "source": [
    "Gray.(collect(labels[:,1:100]))"
   ]
  },
  {
   "cell_type": "code",
   "execution_count": 82,
   "metadata": {},
   "outputs": [
    {
     "data": {
      "image/png": "[encoded data removed]",
      "text/plain": [
       "10×100 Array{Gray{Float32},2}:\n",
       " Gray{Float32}(0.100053)   …  Gray{Float32}(0.100015) \n",
       " Gray{Float32}(0.099968)      Gray{Float32}(0.0999968)\n",
       " Gray{Float32}(0.0999746)     Gray{Float32}(0.0999648)\n",
       " Gray{Float32}(0.099997)      Gray{Float32}(0.100041) \n",
       " Gray{Float32}(0.0999913)     Gray{Float32}(0.100009) \n",
       " Gray{Float32}(0.099985)   …  Gray{Float32}(0.0999763)\n",
       " Gray{Float32}(0.100011)      Gray{Float32}(0.0999931)\n",
       " Gray{Float32}(0.100032)      Gray{Float32}(0.0999981)\n",
       " Gray{Float32}(0.0999838)     Gray{Float32}(0.0999937)\n",
       " Gray{Float32}(0.100004)      Gray{Float32}(0.100012) "
      ]
     },
     "execution_count": 82,
     "metadata": {},
     "output_type": "execute_result"
    }
   ],
   "source": [
    "Gray.(collect(m(train[1][1]).data)[:,1:100])"
   ]
  },
  {
   "cell_type": "code",
   "execution_count": 83,
   "metadata": {},
   "outputs": [
    {
     "data": {
      "text/plain": [
       "(::throttled) (generic function with 1 method)"
      ]
     },
     "execution_count": 83,
     "metadata": {},
     "output_type": "execute_result"
    }
   ],
   "source": [
    "evalcb = throttle(5) do\n",
    "    display(Gray.(collect(m(train[1][1]).data)[:,1:100]))\n",
    "end"
   ]
  },
  {
   "cell_type": "code",
   "execution_count": 84,
   "metadata": {},
   "outputs": [
    {
     "data": {
      "image/png": "[encoded data removed]",
      "text/plain": [
       "10×100 Array{Gray{Float32},2}:\n",
       " Gray{Float32}(0.0694811)  …  Gray{Float32}(0.0312546)\n",
       " Gray{Float32}(0.0459779)     Gray{Float32}(0.437594) \n",
       " Gray{Float32}(0.052891)      Gray{Float32}(0.0602641)\n",
       " Gray{Float32}(0.209762)      Gray{Float32}(0.0598742)\n",
       " Gray{Float32}(0.0196081)     Gray{Float32}(0.0343797)\n",
       " Gray{Float32}(0.272975)   …  Gray{Float32}(0.0425263)\n",
       " Gray{Float32}(0.0375895)     Gray{Float32}(0.0422633)\n",
       " Gray{Float32}(0.0948755)     Gray{Float32}(0.0981249)\n",
       " Gray{Float32}(0.172525)      Gray{Float32}(0.120049) \n",
       " Gray{Float32}(0.0243153)     Gray{Float32}(0.0736691)"
      ]
     },
     "metadata": {},
     "output_type": "display_data"
    },
    {
     "data": {
      "image/png": "[encoded data removed]",
      "text/plain": [
       "10×100 Array{Gray{Float32},2}:\n",
       " Gray{Float32}(0.000357292)  …  Gray{Float32}(4.71276f-6) \n",
       " Gray{Float32}(0.000181559)     Gray{Float32}(0.977543)   \n",
       " Gray{Float32}(0.0024742)       Gray{Float32}(0.0128757)  \n",
       " Gray{Float32}(0.522418)        Gray{Float32}(0.00426554) \n",
       " Gray{Float32}(2.04778f-6)      Gray{Float32}(0.000108404)\n",
       " Gray{Float32}(0.470021)     …  Gray{Float32}(7.20608f-6) \n",
       " Gray{Float32}(3.99311f-6)      Gray{Float32}(9.18612f-6) \n",
       " Gray{Float32}(0.00229651)      Gray{Float32}(0.00297473) \n",
       " Gray{Float32}(0.0022101)       Gray{Float32}(0.000661815)\n",
       " Gray{Float32}(3.51454f-5)      Gray{Float32}(0.0015493)  "
      ]
     },
     "metadata": {},
     "output_type": "display_data"
    },
    {
     "data": {
      "image/png": "[encoded data removed]",
      "text/plain": [
       "10×100 Array{Gray{Float32},2}:\n",
       " Gray{Float32}(9.09748f-7)   …  Gray{Float32}(2.07825f-6) \n",
       " Gray{Float32}(4.10827f-6)      Gray{Float32}(0.981701)   \n",
       " Gray{Float32}(0.000159319)     Gray{Float32}(0.0110753)  \n",
       " Gray{Float32}(0.351433)        Gray{Float32}(0.00300794) \n",
       " Gray{Float32}(5.84632f-7)      Gray{Float32}(0.000308742)\n",
       " Gray{Float32}(0.647364)     …  Gray{Float32}(5.6378f-6)  \n",
       " Gray{Float32}(9.21449f-9)      Gray{Float32}(3.46383f-6) \n",
       " Gray{Float32}(0.000962728)     Gray{Float32}(0.00265315) \n",
       " Gray{Float32}(1.38583f-5)      Gray{Float32}(0.000454897)\n",
       " Gray{Float32}(6.17492f-5)      Gray{Float32}(0.000787674)"
      ]
     },
     "metadata": {},
     "output_type": "display_data"
    },
    {
     "data": {
      "image/png": "[encoded data removed]",
      "text/plain": [
       "10×100 Array{Gray{Float32},2}:\n",
       " Gray{Float32}(6.88914f-9)   …  Gray{Float32}(6.85473f-6) \n",
       " Gray{Float32}(3.86967f-8)      Gray{Float32}(0.985308)   \n",
       " Gray{Float32}(8.6598f-6)       Gray{Float32}(0.00738125) \n",
       " Gray{Float32}(0.374916)        Gray{Float32}(0.00181535) \n",
       " Gray{Float32}(8.08639f-8)      Gray{Float32}(0.000885812)\n",
       " Gray{Float32}(0.625023)     …  Gray{Float32}(2.20157f-6) \n",
       " Gray{Float32}(4.93352f-12)     Gray{Float32}(1.50437f-6) \n",
       " Gray{Float32}(2.46334f-5)      Gray{Float32}(0.00392485) \n",
       " Gray{Float32}(4.19586f-7)      Gray{Float32}(0.000296863)\n",
       " Gray{Float32}(2.77178f-5)      Gray{Float32}(0.000376999)"
      ]
     },
     "metadata": {},
     "output_type": "display_data"
    },
    {
     "data": {
      "image/png": "[encoded data removed]",
      "text/plain": [
       "10×100 Array{Gray{Float32},2}:\n",
       " Gray{Float32}(1.40897f-10)  …  Gray{Float32}(1.21113f-5) \n",
       " Gray{Float32}(1.03941f-9)      Gray{Float32}(0.982957)   \n",
       " Gray{Float32}(2.66871f-7)      Gray{Float32}(0.00506634) \n",
       " Gray{Float32}(0.42175)         Gray{Float32}(0.000890399)\n",
       " Gray{Float32}(2.99707f-9)      Gray{Float32}(0.00167221) \n",
       " Gray{Float32}(0.578243)     …  Gray{Float32}(6.41826f-7) \n",
       " Gray{Float32}(2.56402f-15)     Gray{Float32}(6.26834f-7) \n",
       " Gray{Float32}(1.58521f-6)      Gray{Float32}(0.00904151) \n",
       " Gray{Float32}(5.05157f-8)      Gray{Float32}(0.00021294) \n",
       " Gray{Float32}(5.64267f-6)      Gray{Float32}(0.000146125)"
      ]
     },
     "metadata": {},
     "output_type": "display_data"
    },
    {
     "data": {
      "image/png": "[encoded data removed]",
      "text/plain": [
       "10×100 Array{Gray{Float32},2}:\n",
       " Gray{Float32}(1.0924f-11)   …  Gray{Float32}(9.86872f-6) \n",
       " Gray{Float32}(8.0969f-11)      Gray{Float32}(0.979934)   \n",
       " Gray{Float32}(1.51192f-8)      Gray{Float32}(0.00343943) \n",
       " Gray{Float32}(0.391996)        Gray{Float32}(0.000455371)\n",
       " Gray{Float32}(1.57581f-10)     Gray{Float32}(0.00161357) \n",
       " Gray{Float32}(0.608002)     …  Gray{Float32}(1.96024f-7) \n",
       " Gray{Float32}(7.85376f-18)     Gray{Float32}(1.67525f-7) \n",
       " Gray{Float32}(2.05371f-7)      Gray{Float32}(0.0143482)  \n",
       " Gray{Float32}(1.3997f-8)       Gray{Float32}(0.00014033) \n",
       " Gray{Float32}(1.00365f-6)      Gray{Float32}(5.87913f-5) "
      ]
     },
     "metadata": {},
     "output_type": "display_data"
    }
   ],
   "source": [
    "for i = 1:50\n",
    "    Flux.train!(loss, train, ADAM(params(m)))\n",
    "    evalcb()\n",
    "end"
   ]
  },
  {
   "cell_type": "markdown",
   "metadata": {},
   "source": [
    "Test set accuracy."
   ]
  },
  {
   "cell_type": "code",
   "execution_count": 93,
   "metadata": {},
   "outputs": [
    {
     "data": {
      "text/plain": [
       "0.972"
      ]
     },
     "execution_count": 93,
     "metadata": {},
     "output_type": "execute_result"
    }
   ],
   "source": [
    "mean(argmax(m(tX)) .== argmax(tY))"
   ]
  },
  {
   "cell_type": "code",
   "execution_count": 96,
   "metadata": {},
   "outputs": [],
   "source": [
    "gc(); CuArrays.clearpool()"
   ]
  },
  {
   "cell_type": "code",
   "execution_count": null,
   "metadata": {},
   "outputs": [],
   "source": []
  }
 ],
 "metadata": {
  "kernelspec": {
   "display_name": "Julia 0.6.3-pre",
   "language": "julia",
   "name": "julia-0.6"
  },
  "language_info": {
   "file_extension": ".jl",
   "mimetype": "application/julia",
   "name": "julia",
   "version": "0.6.3"
  }
 },
 "nbformat": 4,
 "nbformat_minor": 2
}
