{
 "cells": [
  {
   "cell_type": "code",
   "execution_count": 1,
   "metadata": {
    "scrolled": true
   },
   "outputs": [],
   "source": [
    "using Flux\n",
    "using Flux: onehot, argmax, chunk, batchseq, throttle, crossentropy\n",
    "using StatsBase: wsample\n",
    "using Base.Iterators: partition"
   ]
  },
  {
   "cell_type": "markdown",
   "metadata": {},
   "source": [
    "We'll load text data from `input.txt` and split it into characters, then turn it into the numeric form needed by the model.\n",
    "\n",
    "The model will take a sequence of characters, like \"the do\", and try to produce the next character (e.g. 't' or 'g' would be likely here but not 'd'). The target output sequence $Y$ is therefore just the input sequence $X$ offset by one, e.g.\n",
    "\n",
    "* $X$: `the dog`\n",
    "* $Y$: `he dog_`"
   ]
  },
  {
   "cell_type": "code",
   "execution_count": 2,
   "metadata": {},
   "outputs": [],
   "source": [
    "text = collect(readstring(\"input.txt\"))\n",
    "alphabet = [unique(text)..., '_']\n",
    "text = map(ch -> onehot(ch, alphabet), text)\n",
    "stop = onehot('_', alphabet)\n",
    "\n",
    "N = length(alphabet)\n",
    "seqlen = 50\n",
    "nbatch = 50\n",
    "\n",
    "Xs = collect(partition(batchseq(chunk(text, nbatch), stop), seqlen))\n",
    "Ys = collect(partition(batchseq(chunk(text[2:end], nbatch), stop), seqlen));"
   ]
  },
  {
   "cell_type": "markdown",
   "metadata": {},
   "source": [
    "Our model will be a multi-layer LSTM, which takes a single character as input and produces a single character as output."
   ]
  },
  {
   "cell_type": "code",
   "execution_count": 25,
   "metadata": {},
   "outputs": [
    {
     "data": {
      "text/plain": [
       "loss (generic function with 1 method)"
      ]
     },
     "execution_count": 25,
     "metadata": {},
     "output_type": "execute_result"
    }
   ],
   "source": [
    "m = Chain(\n",
    "  LSTM(N, 128),\n",
    "  Dense(128, N),\n",
    "  softmax)\n",
    "\n",
    "function loss(xs, ys)\n",
    "  l = sum(crossentropy.(m.(xs), ys))\n",
    "  Flux.truncate!(m)\n",
    "  return l\n",
    "end"
   ]
  },
  {
   "cell_type": "markdown",
   "metadata": {},
   "source": [
    "The model accepts a one-hot-encoded character and returns a probability distribution over possible subsequent characters:"
   ]
  },
  {
   "cell_type": "code",
   "execution_count": 6,
   "metadata": {},
   "outputs": [
    {
     "data": {
      "text/plain": [
       "68-element Array{Float64,1}:\n",
       " 0.0151041\n",
       " 0.0143515\n",
       " 0.0134988\n",
       " 0.0139868\n",
       " 0.0121982\n",
       " 0.0133474\n",
       " 0.0154417\n",
       " 0.0140419\n",
       " 0.0140034\n",
       " 0.0142141\n",
       " 0.0145562\n",
       " 0.0136849\n",
       " 0.0144724\n",
       " ⋮        \n",
       " 0.0157853\n",
       " 0.0152509\n",
       " 0.0155455\n",
       " 0.0163665\n",
       " 0.0156836\n",
       " 0.0152913\n",
       " 0.0145699\n",
       " 0.0139844\n",
       " 0.0156272\n",
       " 0.0151008\n",
       " 0.0146325\n",
       " 0.0151086"
      ]
     },
     "execution_count": 6,
     "metadata": {},
     "output_type": "execute_result"
    }
   ],
   "source": [
    "probabilities = m(onehot('a', alphabet)).data"
   ]
  },
  {
   "cell_type": "markdown",
   "metadata": {},
   "source": [
    "We can sample from this distribution to see what the model thinks comes after 'a'."
   ]
  },
  {
   "cell_type": "code",
   "execution_count": 7,
   "metadata": {},
   "outputs": [
    {
     "data": {
      "text/plain": [
       "'t': ASCII/Unicode U+0074 (category Ll: Letter, lowercase)"
      ]
     },
     "execution_count": 7,
     "metadata": {},
     "output_type": "execute_result"
    }
   ],
   "source": [
    "wsample(alphabet, probabilities)"
   ]
  },
  {
   "cell_type": "markdown",
   "metadata": {},
   "source": [
    "If we feed the model's output back into itself, we can allow it to \"dream\" a sequence of characters."
   ]
  },
  {
   "cell_type": "code",
   "execution_count": 8,
   "metadata": {},
   "outputs": [
    {
     "name": "stdout",
     "output_type": "stream",
     "text": [
      "v$&&SOsRH-L'AjA$yKMCILwn:3v YEeEyNOKYL3Tu-yxss3]-?\n",
      "zeUAhyKRU?Q:SVMzQPYVx'W?$uC :Sh;Ig:PbOlmYi\n",
      "YpYIG_\n"
     ]
    }
   ],
   "source": [
    "function sample(m, alphabet, len; temp = 1)\n",
    "  Flux.reset!(m)\n",
    "  buf = IOBuffer()\n",
    "  c = rand(alphabet)\n",
    "  for i = 1:len\n",
    "    write(buf, c)\n",
    "    c = wsample(alphabet, m(onehot(c, alphabet)).data)\n",
    "  end\n",
    "  return String(take!(buf))\n",
    "end\n",
    "\n",
    "sample(m, alphabet, 100) |> println"
   ]
  },
  {
   "cell_type": "markdown",
   "metadata": {},
   "source": [
    "Right now it's more-or-less random because the model hasn't seen any data. Let's fix that.\n",
    "\n",
    "We just need to call `Flux.train!` with an optimiser and the data we prepared. We set up a call back so that every 30 seconds, we get to see a sample of the model's output, which you should see learning a basic words and grammar fairly quickly."
   ]
  },
  {
   "cell_type": "code",
   "execution_count": 26,
   "metadata": {},
   "outputs": [
    {
     "name": "stdout",
     "output_type": "stream",
     "text": [
      "\u001b[34mLoss is 202.79004518047788\n",
      "\u001b[39m_ZOWk!$GLljWEkUAxs\n",
      "tfp?Vc-IEKK\n",
      "[oAnZ\n",
      "_hXEoB3,OcuSy&:DSfpzX]-cs_NnaeUWW\n",
      "Rn?UlJ RpDY:pE!tMJZPt k'ew,Uf\n",
      "\u001b[34mLoss is 119.96210054291271\n",
      "\u001b[39mWTo nou losere'y in the Torey Bit lild, 'isdr, ton sy ut.\n",
      "\n",
      " co her.\n",
      "Thopr his, Asllingemleut\n",
      "\n",
      "I Buer\n",
      "\u001b[34mLoss is 109.20718742345751\n",
      "\u001b[39m  souzk seet, I way ma poneditles Good Pancente, ftar, Craod dading: Ina the blaotp ceaveek, thuer g\n",
      "\u001b[34mLoss is 102.65545199945302\n",
      "\u001b[39m:\n",
      "I lond tide, feertwith beftince hatl ment whou not never:\n",
      "En't\n",
      "And spow. 'Dat then.\n",
      "\n",
      "Frrest\n",
      "Caosio\n",
      "\u001b[34mLoss is 99.49612308562551\n",
      "\u001b[39m;\n",
      "BY Lord:\n",
      "I we hem seove is sin I comnatirn\n",
      "Fandshning is hil unenf-'Gind!\n",
      "Heal, feairs leave she b\n",
      "\u001b[34mLoss is 97.98811768094829\n",
      "\u001b[39meS\n",
      "OTHaun:\n",
      "A welter tolferanty Ore issile tought all and have that Quaszan, of hoor;\n",
      "And we hans mon\n",
      "\u001b[34mLoss is 97.16236004296526\n",
      "\u001b[39mUw.\n",
      "\n",
      "DUISSOM:\n",
      "There obeugatolesecre would, and Wool me there's yes quearied:\n",
      "She ling-brince on now \n",
      "\u001b[34mLoss is 92.539100060141\n",
      "\u001b[39m:\n",
      "Lomne not batter is telles man\n",
      "My ton his feecer such by swalt inle a\n",
      "Rome coulse fourt sake not G\n",
      "\u001b[34mLoss is 94.17143360882221\n",
      "\u001b[39mpricn,\n",
      "Or to the first dother doth\n",
      "ret, no not our lowe the wellingl, I may knose\n",
      "And whisme sometd;\n",
      "\u001b[34mLoss is 92.66651670831833\n",
      "\u001b[39mirs\n",
      "To servisonguress of I have\n",
      "peet that thy prosess conginc-time Adpear ago, put,\n",
      "You may livet un\n",
      "\u001b[34mLoss is 91.83204346964179\n",
      "\u001b[39mI Athire:\n",
      "And I'st, I can we banired were but Oneine,\n",
      "A many ponger than with who mieal;\n",
      "-This comat\n",
      "\u001b[34mLoss is 91.18893224972143\n",
      "\u001b[39mmote.\n",
      " is do as tomak; flalling lave you threa\n",
      "And, thencI us, and all of may should,\n",
      "The stain than\n",
      "\u001b[34mLoss is 89.93082892831303\n",
      "\u001b[39mqu:\n",
      "Phase, on had you, the meansady:\n",
      "Like not let do poor prechal's daught,\n",
      "Which our it not sir, to\n"
     ]
    },
    {
     "ename": "LoadError",
     "evalue": "\u001b[91mInterruptException:\u001b[39m",
     "output_type": "error",
     "traceback": [
      "\u001b[91mInterruptException:\u001b[39m",
      "",
      "Stacktrace:",
      " [1] \u001b[1mA_mul_Bt\u001b[22m\u001b[22m\u001b[1m(\u001b[22m\u001b[22m::Array{Float64,2}, ::Array{Float64,2}\u001b[1m)\u001b[22m\u001b[22m at \u001b[1m./linalg/matmul.jl:189\u001b[22m\u001b[22m",
      " [2] \u001b[1mmacro expansion\u001b[22m\u001b[22m at \u001b[1m/home/mike/.julia/v0.6/Flux/src/tracker/back.jl:33\u001b[22m\u001b[22m [inlined]",
      " [3] \u001b[1mback\u001b[22m\u001b[22m\u001b[1m(\u001b[22m\u001b[22m::Base.#*, ::Array{Float64,2}, ::TrackedArray{…,Array{Float64,2}}, ::TrackedArray{…,Array{Float64,2}}\u001b[1m)\u001b[22m\u001b[22m at \u001b[1m/home/mike/.julia/v0.6/Flux/src/tracker/lib.jl:106\u001b[22m\u001b[22m",
      " [4] \u001b[1mback_\u001b[22m\u001b[22m\u001b[1m(\u001b[22m\u001b[22m::Function, ::Array{Float64,2}, ::Array{Float64,2}, ::TrackedArray{…,Array{Float64,2}}, ::TrackedArray{…,Array{Float64,2}}\u001b[1m)\u001b[22m\u001b[22m at \u001b[1m/home/mike/.julia/v0.6/Flux/src/tracker/back.jl:15\u001b[22m\u001b[22m",
      " [5] \u001b[1mback_\u001b[22m\u001b[22m\u001b[1m(\u001b[22m\u001b[22m::Flux.Tracker.Call{Base.#*,Tuple{TrackedArray{…,Array{Float64,2}},TrackedArray{…,Array{Float64,2}}}}, ::Array{Float64,2}, ::Array{Float64,2}\u001b[1m)\u001b[22m\u001b[22m at \u001b[1m/home/mike/.julia/v0.6/Flux/src/tracker/back.jl:16\u001b[22m\u001b[22m",
      " [6] \u001b[1mback\u001b[22m\u001b[22m\u001b[1m(\u001b[22m\u001b[22m::TrackedArray{…,Array{Float64,2}}, ::Array{Float64,2}\u001b[1m)\u001b[22m\u001b[22m at \u001b[1m/home/mike/.julia/v0.6/Flux/src/tracker/back.jl:25\u001b[22m\u001b[22m",
      " [7] \u001b[1mmacro expansion\u001b[22m\u001b[22m at \u001b[1m/home/mike/.julia/v0.6/Flux/src/tracker/back.jl:33\u001b[22m\u001b[22m [inlined]",
      " [8] \u001b[1m(::Flux.Tracker.##36#38)\u001b[22m\u001b[22m\u001b[1m(\u001b[22m\u001b[22m::TrackedArray{…,Array{Float64,2}}, ::Array{Float64,2}\u001b[1m)\u001b[22m\u001b[22m at \u001b[1m/home/mike/.julia/v0.6/Flux/src/tracker/lib.jl:196\u001b[22m\u001b[22m",
      " [9] \u001b[1mforeach\u001b[22m\u001b[22m\u001b[1m(\u001b[22m\u001b[22m::Function, ::Tuple{TrackedArray{…,Array{Float64,2}},TrackedArray{…,Array{Float64,1}}}, ::Tuple{Array{Float64,2},Array{Float64,2}}, ::Vararg{Tuple{Array{Float64,2},Array{Float64,2}},N} where N\u001b[1m)\u001b[22m\u001b[22m at \u001b[1m./abstractarray.jl:1732\u001b[22m\u001b[22m",
      " [10] \u001b[1mback_\u001b[22m\u001b[22m\u001b[1m(\u001b[22m\u001b[22m::Flux.Tracker.Call{Flux.Tracker.Broadcasted{Array{ForwardDiff.Dual{Void,Float64,2},2}},Tuple{TrackedArray{…,Array{Float64,2}},TrackedArray{…,Array{Float64,1}}}}, ::Array{Float64,2}, ::Array{Float64,2}\u001b[1m)\u001b[22m\u001b[22m at \u001b[1m/home/mike/.julia/v0.6/Flux/src/tracker/back.jl:16\u001b[22m\u001b[22m",
      " [11] \u001b[1mback\u001b[22m\u001b[22m\u001b[1m(\u001b[22m\u001b[22m::TrackedArray{…,Array{Float64,2}}, ::Array{Float64,2}\u001b[1m)\u001b[22m\u001b[22m at \u001b[1m/home/mike/.julia/v0.6/Flux/src/tracker/back.jl:25\u001b[22m\u001b[22m",
      " [12] \u001b[1mmacro expansion\u001b[22m\u001b[22m at \u001b[1m/home/mike/.julia/v0.6/Flux/src/tracker/back.jl:33\u001b[22m\u001b[22m [inlined]",
      " [13] \u001b[1m(::Flux.Tracker.##36#38)\u001b[22m\u001b[22m\u001b[1m(\u001b[22m\u001b[22m::TrackedArray{…,Array{Float64,2}}, ::Array{Float64,2}\u001b[1m)\u001b[22m\u001b[22m at \u001b[1m/home/mike/.julia/v0.6/Flux/src/tracker/lib.jl:196\u001b[22m\u001b[22m",
      " [14] \u001b[1mforeach\u001b[22m\u001b[22m\u001b[1m(\u001b[22m\u001b[22m::Function, ::NTuple{4,TrackedArray{…,Array{Float64,2}}}, ::NTuple{4,Array{Float64,2}}, ::Vararg{NTuple{4,Array{Float64,2}},N} where N\u001b[1m)\u001b[22m\u001b[22m at \u001b[1m./abstractarray.jl:1732\u001b[22m\u001b[22m",
      " [15] \u001b[1mback_\u001b[22m\u001b[22m\u001b[1m(\u001b[22m\u001b[22m::Flux.Tracker.Call{Flux.Tracker.Broadcasted{Array{ForwardDiff.Dual{Void,Float64,4},2}},NTuple{4,TrackedArray{…,Array{Float64,2}}}}, ::Array{Float64,2}, ::Array{Float64,2}\u001b[1m)\u001b[22m\u001b[22m at \u001b[1m/home/mike/.julia/v0.6/Flux/src/tracker/back.jl:16\u001b[22m\u001b[22m",
      " [16] \u001b[1mback\u001b[22m\u001b[22m\u001b[1m(\u001b[22m\u001b[22m::TrackedArray{…,Array{Float64,2}}, ::Array{Float64,2}\u001b[1m)\u001b[22m\u001b[22m at \u001b[1m/home/mike/.julia/v0.6/Flux/src/tracker/back.jl:23\u001b[22m\u001b[22m",
      " [17] \u001b[1mmacro expansion\u001b[22m\u001b[22m at \u001b[1m/home/mike/.julia/v0.6/Flux/src/tracker/back.jl:33\u001b[22m\u001b[22m [inlined]",
      " [18] \u001b[1m(::Flux.Tracker.##36#38)\u001b[22m\u001b[22m\u001b[1m(\u001b[22m\u001b[22m::TrackedArray{…,Array{Float64,2}}, ::Array{Float64,2}\u001b[1m)\u001b[22m\u001b[22m at \u001b[1m/home/mike/.julia/v0.6/Flux/src/tracker/lib.jl:196\u001b[22m\u001b[22m",
      " [19] \u001b[1mforeach\u001b[22m\u001b[22m\u001b[1m(\u001b[22m\u001b[22m::Function, ::Tuple{TrackedArray{…,Array{Float64,2}},TrackedArray{…,Array{Float64,2}}}, ::Tuple{Array{Float64,2},Array{Float64,2}}, ::Vararg{Tuple{Array{Float64,2},Array{Float64,2}},N} where N\u001b[1m)\u001b[22m\u001b[22m at \u001b[1m./abstractarray.jl:1732\u001b[22m\u001b[22m",
      " [20] \u001b[1mback_\u001b[22m\u001b[22m\u001b[1m(\u001b[22m\u001b[22m::Flux.Tracker.Call{Flux.Tracker.Broadcasted{Array{ForwardDiff.Dual{Void,Float64,2},2}},Tuple{TrackedArray{…,Array{Float64,2}},TrackedArray{…,Array{Float64,2}}}}, ::Array{Float64,2}, ::Array{Float64,2}\u001b[1m)\u001b[22m\u001b[22m at \u001b[1m/home/mike/.julia/v0.6/Flux/src/tracker/back.jl:16\u001b[22m\u001b[22m",
      " [21] \u001b[1mback\u001b[22m\u001b[22m\u001b[1m(\u001b[22m\u001b[22m::TrackedArray{…,Array{Float64,2}}, ::Array{Float64,2}\u001b[1m)\u001b[22m\u001b[22m at \u001b[1m/home/mike/.julia/v0.6/Flux/src/tracker/back.jl:23\u001b[22m\u001b[22m",
      " [22] \u001b[1mmacro expansion\u001b[22m\u001b[22m at \u001b[1m/home/mike/.julia/v0.6/Flux/src/tracker/back.jl:33\u001b[22m\u001b[22m [inlined]",
      " [23] \u001b[1mback\u001b[22m\u001b[22m\u001b[1m(\u001b[22m\u001b[22m::Base.#vcat, ::Array{Float64,2}, ::Flux.OneHotMatrix{Array{Flux.OneHotVector,1}}, ::TrackedArray{…,Array{Float64,2}}\u001b[1m)\u001b[22m\u001b[22m at \u001b[1m/home/mike/.julia/v0.6/Flux/src/tracker/lib.jl:44\u001b[22m\u001b[22m",
      " [24] \u001b[1mback_\u001b[22m\u001b[22m\u001b[1m(\u001b[22m\u001b[22m::Flux.Tracker.Call{Base.#vcat,Tuple{Flux.OneHotMatrix{Array{Flux.OneHotVector,1}},TrackedArray{…,Array{Float64,2}}}}, ::Array{Float64,2}, ::Array{Float64,2}\u001b[1m)\u001b[22m\u001b[22m at \u001b[1m/home/mike/.julia/v0.6/Flux/src/tracker/back.jl:16\u001b[22m\u001b[22m",
      " [25] \u001b[1mback\u001b[22m\u001b[22m\u001b[1m(\u001b[22m\u001b[22m::TrackedArray{…,Array{Float64,2}}, ::Array{Float64,2}\u001b[1m)\u001b[22m\u001b[22m at \u001b[1m/home/mike/.julia/v0.6/Flux/src/tracker/back.jl:23\u001b[22m\u001b[22m",
      " [26] \u001b[1mmacro expansion\u001b[22m\u001b[22m at \u001b[1m/home/mike/.julia/v0.6/Flux/src/tracker/back.jl:33\u001b[22m\u001b[22m [inlined]",
      " [27] \u001b[1mback\u001b[22m\u001b[22m\u001b[1m(\u001b[22m\u001b[22m::Base.#*, ::Array{Float64,2}, ::TrackedArray{…,Array{Float64,2}}, ::TrackedArray{…,Array{Float64,2}}\u001b[1m)\u001b[22m\u001b[22m at \u001b[1m/home/mike/.julia/v0.6/Flux/src/tracker/lib.jl:107\u001b[22m\u001b[22m",
      " [28] \u001b[1mback_\u001b[22m\u001b[22m\u001b[1m(\u001b[22m\u001b[22m::Function, ::Array{Float64,2}, ::Array{Float64,2}, ::TrackedArray{…,Array{Float64,2}}, ::TrackedArray{…,Array{Float64,2}}\u001b[1m)\u001b[22m\u001b[22m at \u001b[1m/home/mike/.julia/v0.6/Flux/src/tracker/back.jl:15\u001b[22m\u001b[22m",
      " [29] \u001b[1mback_\u001b[22m\u001b[22m\u001b[1m(\u001b[22m\u001b[22m::Flux.Tracker.Call{Base.#*,Tuple{TrackedArray{…,Array{Float64,2}},TrackedArray{…,Array{Float64,2}}}}, ::Array{Float64,2}, ::Array{Float64,2}\u001b[1m)\u001b[22m\u001b[22m at \u001b[1m/home/mike/.julia/v0.6/Flux/src/tracker/back.jl:16\u001b[22m\u001b[22m",
      " [30] \u001b[1mback\u001b[22m\u001b[22m\u001b[1m(\u001b[22m\u001b[22m::TrackedArray{…,Array{Float64,2}}, ::Array{Float64,2}\u001b[1m)\u001b[22m\u001b[22m at \u001b[1m/home/mike/.julia/v0.6/Flux/src/tracker/back.jl:25\u001b[22m\u001b[22m",
      " [31] \u001b[1mmacro expansion\u001b[22m\u001b[22m at \u001b[1m/home/mike/.julia/v0.6/Flux/src/tracker/back.jl:33\u001b[22m\u001b[22m [inlined]",
      " [32] \u001b[1m(::Flux.Tracker.##36#38)\u001b[22m\u001b[22m\u001b[1m(\u001b[22m\u001b[22m::TrackedArray{…,Array{Float64,2}}, ::Array{Float64,2}\u001b[1m)\u001b[22m\u001b[22m at \u001b[1m/home/mike/.julia/v0.6/Flux/src/tracker/lib.jl:196\u001b[22m\u001b[22m",
      " [33] \u001b[1mforeach\u001b[22m\u001b[22m\u001b[1m(\u001b[22m\u001b[22m::Function, ::Tuple{TrackedArray{…,Array{Float64,2}},TrackedArray{…,Array{Float64,1}}}, ::Tuple{Array{Float64,2},Array{Float64,2}}, ::Vararg{Tuple{Array{Float64,2},Array{Float64,2}},N} where N\u001b[1m)\u001b[22m\u001b[22m at \u001b[1m./abstractarray.jl:1732\u001b[22m\u001b[22m",
      " [34] \u001b[1mback_\u001b[22m\u001b[22m\u001b[1m(\u001b[22m\u001b[22m::Flux.Tracker.Call{Flux.Tracker.Broadcasted{Array{ForwardDiff.Dual{Void,Float64,2},2}},Tuple{TrackedArray{…,Array{Float64,2}},TrackedArray{…,Array{Float64,1}}}}, ::Array{Float64,2}, ::Array{Float64,2}\u001b[1m)\u001b[22m\u001b[22m at \u001b[1m/home/mike/.julia/v0.6/Flux/src/tracker/back.jl:16\u001b[22m\u001b[22m",
      " [35] \u001b[1mback\u001b[22m\u001b[22m\u001b[1m(\u001b[22m\u001b[22m::TrackedArray{…,Array{Float64,2}}, ::Array{Float64,2}\u001b[1m)\u001b[22m\u001b[22m at \u001b[1m/home/mike/.julia/v0.6/Flux/src/tracker/back.jl:25\u001b[22m\u001b[22m",
      " [36] \u001b[1mmacro expansion\u001b[22m\u001b[22m at \u001b[1m/home/mike/.julia/v0.6/Flux/src/tracker/back.jl:33\u001b[22m\u001b[22m [inlined]",
      " [37] \u001b[1m(::Flux.Tracker.##36#38)\u001b[22m\u001b[22m\u001b[1m(\u001b[22m\u001b[22m::TrackedArray{…,Array{Float64,2}}, ::Array{Float64,2}\u001b[1m)\u001b[22m\u001b[22m at \u001b[1m/home/mike/.julia/v0.6/Flux/src/tracker/lib.jl:196\u001b[22m\u001b[22m",
      " [38] \u001b[1mforeach\u001b[22m\u001b[22m\u001b[1m(\u001b[22m\u001b[22m::Function, ::NTuple{4,TrackedArray{…,Array{Float64,2}}}, ::NTuple{4,Array{Float64,2}}, ::Vararg{NTuple{4,Array{Float64,2}},N} where N\u001b[1m)\u001b[22m\u001b[22m at \u001b[1m./abstractarray.jl:1732\u001b[22m\u001b[22m",
      " [39] \u001b[1mback_\u001b[22m\u001b[22m\u001b[1m(\u001b[22m\u001b[22m::Flux.Tracker.Call{Flux.Tracker.Broadcasted{Array{ForwardDiff.Dual{Void,Float64,4},2}},NTuple{4,TrackedArray{…,Array{Float64,2}}}}, ::Array{Float64,2}, ::Array{Float64,2}\u001b[1m)\u001b[22m\u001b[22m at \u001b[1m/home/mike/.julia/v0.6/Flux/src/tracker/back.jl:16\u001b[22m\u001b[22m",
      " [40] \u001b[1mback\u001b[22m\u001b[22m\u001b[1m(\u001b[22m\u001b[22m::TrackedArray{…,Array{Float64,2}}, ::Array{Float64,2}\u001b[1m)\u001b[22m\u001b[22m at \u001b[1m/home/mike/.julia/v0.6/Flux/src/tracker/back.jl:23\u001b[22m\u001b[22m",
      " [41] \u001b[1mmacro expansion\u001b[22m\u001b[22m at \u001b[1m/home/mike/.julia/v0.6/Flux/src/tracker/back.jl:33\u001b[22m\u001b[22m [inlined]",
      " [42] \u001b[1m(::Flux.Tracker.##36#38)\u001b[22m\u001b[22m\u001b[1m(\u001b[22m\u001b[22m::TrackedArray{…,Array{Float64,2}}, ::Array{Float64,2}\u001b[1m)\u001b[22m\u001b[22m at \u001b[1m/home/mike/.julia/v0.6/Flux/src/tracker/lib.jl:196\u001b[22m\u001b[22m",
      " [43] \u001b[1mforeach\u001b[22m\u001b[22m\u001b[1m(\u001b[22m\u001b[22m::Function, ::Tuple{TrackedArray{…,Array{Float64,2}},TrackedArray{…,Array{Float64,2}}}, ::Tuple{Array{Float64,2},Array{Float64,2}}, ::Vararg{Tuple{Array{Float64,2},Array{Float64,2}},N} where N\u001b[1m)\u001b[22m\u001b[22m at \u001b[1m./abstractarray.jl:1732\u001b[22m\u001b[22m",
      " [44] \u001b[1mback_\u001b[22m\u001b[22m\u001b[1m(\u001b[22m\u001b[22m::Flux.Tracker.Call{Flux.Tracker.Broadcasted{Array{ForwardDiff.Dual{Void,Float64,2},2}},Tuple{TrackedArray{…,Array{Float64,2}},TrackedArray{…,Array{Float64,2}}}}, ::Array{Float64,2}, ::Array{Float64,2}\u001b[1m)\u001b[22m\u001b[22m at \u001b[1m/home/mike/.julia/v0.6/Flux/src/tracker/back.jl:16\u001b[22m\u001b[22m",
      " [45] \u001b[1mback\u001b[22m\u001b[22m\u001b[1m(\u001b[22m\u001b[22m::TrackedArray{…,Array{Float64,2}}, ::Array{Float64,2}\u001b[1m)\u001b[22m\u001b[22m at \u001b[1m/home/mike/.julia/v0.6/Flux/src/tracker/back.jl:23\u001b[22m\u001b[22m",
      " [46] \u001b[1mmacro expansion\u001b[22m\u001b[22m at \u001b[1m/home/mike/.julia/v0.6/Flux/src/tracker/back.jl:33\u001b[22m\u001b[22m [inlined]",
      " [47] \u001b[1mback\u001b[22m\u001b[22m\u001b[1m(\u001b[22m\u001b[22m::Base.#vcat, ::Array{Float64,2}, ::Flux.OneHotMatrix{Array{Flux.OneHotVector,1}}, ::TrackedArray{…,Array{Float64,2}}\u001b[1m)\u001b[22m\u001b[22m at \u001b[1m/home/mike/.julia/v0.6/Flux/src/tracker/lib.jl:44\u001b[22m\u001b[22m",
      " [48] \u001b[1mback_\u001b[22m\u001b[22m\u001b[1m(\u001b[22m\u001b[22m::Flux.Tracker.Call{Base.#vcat,Tuple{Flux.OneHotMatrix{Array{Flux.OneHotVector,1}},TrackedArray{…,Array{Float64,2}}}}, ::Array{Float64,2}, ::Array{Float64,2}\u001b[1m)\u001b[22m\u001b[22m at \u001b[1m/home/mike/.julia/v0.6/Flux/src/tracker/back.jl:16\u001b[22m\u001b[22m",
      " [49] \u001b[1mback\u001b[22m\u001b[22m\u001b[1m(\u001b[22m\u001b[22m::TrackedArray{…,Array{Float64,2}}, ::Array{Float64,2}\u001b[1m)\u001b[22m\u001b[22m at \u001b[1m/home/mike/.julia/v0.6/Flux/src/tracker/back.jl:23\u001b[22m\u001b[22m",
      " [50] \u001b[1mmacro expansion\u001b[22m\u001b[22m at \u001b[1m/home/mike/.julia/v0.6/Flux/src/tracker/back.jl:33\u001b[22m\u001b[22m [inlined]",
      " [51] \u001b[1mback\u001b[22m\u001b[22m\u001b[1m(\u001b[22m\u001b[22m::Base.#*, ::Array{Float64,2}, ::TrackedArray{…,Array{Float64,2}}, ::TrackedArray{…,Array{Float64,2}}\u001b[1m)\u001b[22m\u001b[22m at \u001b[1m/home/mike/.julia/v0.6/Flux/src/tracker/lib.jl:107\u001b[22m\u001b[22m",
      " [52] \u001b[1mback_\u001b[22m\u001b[22m\u001b[1m(\u001b[22m\u001b[22m::Function, ::Array{Float64,2}, ::Array{Float64,2}, ::TrackedArray{…,Array{Float64,2}}, ::TrackedArray{…,Array{Float64,2}}\u001b[1m)\u001b[22m\u001b[22m at \u001b[1m/home/mike/.julia/v0.6/Flux/src/tracker/back.jl:15\u001b[22m\u001b[22m",
      " [53] \u001b[1mback_\u001b[22m\u001b[22m\u001b[1m(\u001b[22m\u001b[22m::Flux.Tracker.Call{Base.#*,Tuple{TrackedArray{…,Array{Float64,2}},TrackedArray{…,Array{Float64,2}}}}, ::Array{Float64,2}, ::Array{Float64,2}\u001b[1m)\u001b[22m\u001b[22m at \u001b[1m/home/mike/.julia/v0.6/Flux/src/tracker/back.jl:16\u001b[22m\u001b[22m",
      " [54] \u001b[1mback\u001b[22m\u001b[22m\u001b[1m(\u001b[22m\u001b[22m::TrackedArray{…,Array{Float64,2}}, ::Array{Float64,2}\u001b[1m)\u001b[22m\u001b[22m at \u001b[1m/home/mike/.julia/v0.6/Flux/src/tracker/back.jl:25\u001b[22m\u001b[22m",
      " [55] \u001b[1mmacro expansion\u001b[22m\u001b[22m at \u001b[1m/home/mike/.julia/v0.6/Flux/src/tracker/back.jl:33\u001b[22m\u001b[22m [inlined]",
      " [56] \u001b[1m(::Flux.Tracker.##36#38)\u001b[22m\u001b[22m\u001b[1m(\u001b[22m\u001b[22m::TrackedArray{…,Array{Float64,2}}, ::Array{Float64,2}\u001b[1m)\u001b[22m\u001b[22m at \u001b[1m/home/mike/.julia/v0.6/Flux/src/tracker/lib.jl:196\u001b[22m\u001b[22m",
      " [57] \u001b[1mforeach\u001b[22m\u001b[22m\u001b[1m(\u001b[22m\u001b[22m::Function, ::Tuple{TrackedArray{…,Array{Float64,2}},TrackedArray{…,Array{Float64,1}}}, ::Tuple{Array{Float64,2},Array{Float64,2}}, ::Vararg{Tuple{Array{Float64,2},Array{Float64,2}},N} where N\u001b[1m)\u001b[22m\u001b[22m at \u001b[1m./abstractarray.jl:1732\u001b[22m\u001b[22m",
      " [58] \u001b[1mback_\u001b[22m\u001b[22m\u001b[1m(\u001b[22m\u001b[22m::Flux.Tracker.Call{Flux.Tracker.Broadcasted{Array{ForwardDiff.Dual{Void,Float64,2},2}},Tuple{TrackedArray{…,Array{Float64,2}},TrackedArray{…,Array{Float64,1}}}}, ::Array{Float64,2}, ::Array{Float64,2}\u001b[1m)\u001b[22m\u001b[22m at \u001b[1m/home/mike/.julia/v0.6/Flux/src/tracker/back.jl:16\u001b[22m\u001b[22m",
      " [59] \u001b[1mback\u001b[22m\u001b[22m\u001b[1m(\u001b[22m\u001b[22m::TrackedArray{…,Array{Float64,2}}, ::Array{Float64,2}\u001b[1m)\u001b[22m\u001b[22m at \u001b[1m/home/mike/.julia/v0.6/Flux/src/tracker/back.jl:25\u001b[22m\u001b[22m",
      " [60] \u001b[1mmacro expansion\u001b[22m\u001b[22m at \u001b[1m/home/mike/.julia/v0.6/Flux/src/tracker/back.jl:33\u001b[22m\u001b[22m [inlined]",
      " [61] \u001b[1m(::Flux.Tracker.##36#38)\u001b[22m\u001b[22m\u001b[1m(\u001b[22m\u001b[22m::TrackedArray{…,Array{Float64,2}}, ::Array{Float64,2}\u001b[1m)\u001b[22m\u001b[22m at \u001b[1m/home/mike/.julia/v0.6/Flux/src/tracker/lib.jl:196\u001b[22m\u001b[22m",
      " [62] \u001b[1mforeach\u001b[22m\u001b[22m\u001b[1m(\u001b[22m\u001b[22m::Function, ::NTuple{4,TrackedArray{…,Array{Float64,2}}}, ::NTuple{4,Array{Float64,2}}, ::Vararg{NTuple{4,Array{Float64,2}},N} where N\u001b[1m)\u001b[22m\u001b[22m at \u001b[1m./abstractarray.jl:1732\u001b[22m\u001b[22m",
      " [63] \u001b[1mback_\u001b[22m\u001b[22m\u001b[1m(\u001b[22m\u001b[22m::Flux.Tracker.Call{Flux.Tracker.Broadcasted{Array{ForwardDiff.Dual{Void,Float64,4},2}},NTuple{4,TrackedArray{…,Array{Float64,2}}}}, ::Array{Float64,2}, ::Array{Float64,2}\u001b[1m)\u001b[22m\u001b[22m at \u001b[1m/home/mike/.julia/v0.6/Flux/src/tracker/back.jl:16\u001b[22m\u001b[22m",
      " [64] \u001b[1mback\u001b[22m\u001b[22m\u001b[1m(\u001b[22m\u001b[22m::TrackedArray{…,Array{Float64,2}}, ::Array{Float64,2}\u001b[1m)\u001b[22m\u001b[22m at \u001b[1m/home/mike/.julia/v0.6/Flux/src/tracker/back.jl:25\u001b[22m\u001b[22m",
      " [65] \u001b[1mmacro expansion\u001b[22m\u001b[22m at \u001b[1m/home/mike/.julia/v0.6/Flux/src/tracker/back.jl:33\u001b[22m\u001b[22m [inlined]",
      " [66] \u001b[1m(::Flux.Tracker.##36#38)\u001b[22m\u001b[22m\u001b[1m(\u001b[22m\u001b[22m::TrackedArray{…,Array{Float64,2}}, ::Array{Float64,2}\u001b[1m)\u001b[22m\u001b[22m at \u001b[1m/home/mike/.julia/v0.6/Flux/src/tracker/lib.jl:196\u001b[22m\u001b[22m",
      " [67] \u001b[1mforeach\u001b[22m\u001b[22m\u001b[1m(\u001b[22m\u001b[22m::Function, ::Tuple{TrackedArray{…,Array{Float64,2}},TrackedArray{…,Array{Float64,2}}}, ::Tuple{Array{Float64,2},Array{Float64,2}}, ::Vararg{Tuple{Array{Float64,2},Array{Float64,2}},N} where N\u001b[1m)\u001b[22m\u001b[22m at \u001b[1m./abstractarray.jl:1732\u001b[22m\u001b[22m",
      " [68] \u001b[1mback_\u001b[22m\u001b[22m\u001b[1m(\u001b[22m\u001b[22m::Flux.Tracker.Call{Flux.Tracker.Broadcasted{Array{ForwardDiff.Dual{Void,Float64,2},2}},Tuple{TrackedArray{…,Array{Float64,2}},TrackedArray{…,Array{Float64,2}}}}, ::Array{Float64,2}, ::Array{Float64,2}\u001b[1m)\u001b[22m\u001b[22m at \u001b[1m/home/mike/.julia/v0.6/Flux/src/tracker/back.jl:16\u001b[22m\u001b[22m",
      " [69] \u001b[1mback\u001b[22m\u001b[22m\u001b[1m(\u001b[22m\u001b[22m::TrackedArray{…,Array{Float64,2}}, ::Array{Float64,2}\u001b[1m)\u001b[22m\u001b[22m at \u001b[1m/home/mike/.julia/v0.6/Flux/src/tracker/back.jl:25\u001b[22m\u001b[22m",
      " [70] \u001b[1mmacro expansion\u001b[22m\u001b[22m at \u001b[1m/home/mike/.julia/v0.6/Flux/src/tracker/back.jl:33\u001b[22m\u001b[22m [inlined]",
      " [71] \u001b[1mback\u001b[22m\u001b[22m\u001b[1m(\u001b[22m\u001b[22m::Base.#*, ::Array{Float64,2}, ::TrackedArray{…,Array{Float64,2}}, ::TrackedArray{…,Array{Float64,2}}\u001b[1m)\u001b[22m\u001b[22m at \u001b[1m/home/mike/.julia/v0.6/Flux/src/tracker/lib.jl:107\u001b[22m\u001b[22m",
      " [72] \u001b[1mback_\u001b[22m\u001b[22m\u001b[1m(\u001b[22m\u001b[22m::Function, ::Array{Float64,2}, ::Array{Float64,2}, ::TrackedArray{…,Array{Float64,2}}, ::TrackedArray{…,Array{Float64,2}}\u001b[1m)\u001b[22m\u001b[22m at \u001b[1m/home/mike/.julia/v0.6/Flux/src/tracker/back.jl:15\u001b[22m\u001b[22m",
      " [73] \u001b[1mback_\u001b[22m\u001b[22m\u001b[1m(\u001b[22m\u001b[22m::Flux.Tracker.Call{Base.#*,Tuple{TrackedArray{…,Array{Float64,2}},TrackedArray{…,Array{Float64,2}}}}, ::Array{Float64,2}, ::Array{Float64,2}\u001b[1m)\u001b[22m\u001b[22m at \u001b[1m/home/mike/.julia/v0.6/Flux/src/tracker/back.jl:16\u001b[22m\u001b[22m",
      " [74] \u001b[1mback\u001b[22m\u001b[22m\u001b[1m(\u001b[22m\u001b[22m::TrackedArray{…,Array{Float64,2}}, ::Array{Float64,2}\u001b[1m)\u001b[22m\u001b[22m at \u001b[1m/home/mike/.julia/v0.6/Flux/src/tracker/back.jl:25\u001b[22m\u001b[22m",
      " [75] \u001b[1mmacro expansion\u001b[22m\u001b[22m at \u001b[1m/home/mike/.julia/v0.6/Flux/src/tracker/back.jl:33\u001b[22m\u001b[22m [inlined]",
      " [76] \u001b[1m(::Flux.Tracker.##36#38)\u001b[22m\u001b[22m\u001b[1m(\u001b[22m\u001b[22m::TrackedArray{…,Array{Float64,2}}, ::Array{Float64,2}\u001b[1m)\u001b[22m\u001b[22m at \u001b[1m/home/mike/.julia/v0.6/Flux/src/tracker/lib.jl:196\u001b[22m\u001b[22m",
      " [77] \u001b[1mforeach\u001b[22m\u001b[22m\u001b[1m(\u001b[22m\u001b[22m::Function, ::Tuple{TrackedArray{…,Array{Float64,2}},TrackedArray{…,Array{Float64,1}}}, ::Tuple{Array{Float64,2},Array{Float64,2}}, ::Vararg{Tuple{Array{Float64,2},Array{Float64,2}},N} where N\u001b[1m)\u001b[22m\u001b[22m at \u001b[1m./abstractarray.jl:1732\u001b[22m\u001b[22m",
      " [78] \u001b[1mback_\u001b[22m\u001b[22m\u001b[1m(\u001b[22m\u001b[22m::Flux.Tracker.Call{Flux.Tracker.Broadcasted{Array{ForwardDiff.Dual{Void,Float64,2},2}},Tuple{TrackedArray{…,Array{Float64,2}},TrackedArray{…,Array{Float64,1}}}}, ::Array{Float64,2}, ::Array{Float64,2}\u001b[1m)\u001b[22m\u001b[22m at \u001b[1m/home/mike/.julia/v0.6/Flux/src/tracker/back.jl:16\u001b[22m\u001b[22m",
      " [79] \u001b[1mback\u001b[22m\u001b[22m\u001b[1m(\u001b[22m\u001b[22m::TrackedArray{…,Array{Float64,2}}, ::Array{Float64,2}\u001b[1m)\u001b[22m\u001b[22m at \u001b[1m/home/mike/.julia/v0.6/Flux/src/tracker/back.jl:25\u001b[22m\u001b[22m",
      " [80] \u001b[1mmacro expansion\u001b[22m\u001b[22m at \u001b[1m/home/mike/.julia/v0.6/Flux/src/tracker/back.jl:33\u001b[22m\u001b[22m [inlined]",
      " [81] \u001b[1mback\u001b[22m\u001b[22m\u001b[1m(\u001b[22m\u001b[22m::NNlib.#softmax, ::Array{Float64,2}, ::TrackedArray{…,Array{Float64,2}}\u001b[1m)\u001b[22m\u001b[22m at \u001b[1m/home/mike/.julia/v0.6/Flux/src/tracker/lib.jl:137\u001b[22m\u001b[22m",
      " [82] \u001b[1mback_\u001b[22m\u001b[22m\u001b[1m(\u001b[22m\u001b[22m::Function, ::Array{Float64,2}, ::Array{Float64,2}, ::TrackedArray{…,Array{Float64,2}}\u001b[1m)\u001b[22m\u001b[22m at \u001b[1m/home/mike/.julia/v0.6/Flux/src/tracker/back.jl:15\u001b[22m\u001b[22m",
      " [83] \u001b[1mback_\u001b[22m\u001b[22m\u001b[1m(\u001b[22m\u001b[22m::Flux.Tracker.Call{NNlib.#softmax,Tuple{TrackedArray{…,Array{Float64,2}}}}, ::Array{Float64,2}, ::Array{Float64,2}\u001b[1m)\u001b[22m\u001b[22m at \u001b[1m/home/mike/.julia/v0.6/Flux/src/tracker/back.jl:16\u001b[22m\u001b[22m",
      " [84] \u001b[1mback\u001b[22m\u001b[22m\u001b[1m(\u001b[22m\u001b[22m::TrackedArray{…,Array{Float64,2}}, ::Array{Float64,2}\u001b[1m)\u001b[22m\u001b[22m at \u001b[1m/home/mike/.julia/v0.6/Flux/src/tracker/back.jl:25\u001b[22m\u001b[22m",
      " [85] \u001b[1mmacro expansion\u001b[22m\u001b[22m at \u001b[1m/home/mike/.julia/v0.6/Flux/src/tracker/back.jl:33\u001b[22m\u001b[22m [inlined]",
      " [86] \u001b[1m(::Flux.Tracker.##36#38)\u001b[22m\u001b[22m\u001b[1m(\u001b[22m\u001b[22m::TrackedArray{…,Array{Float64,2}}, ::Array{Float64,2}\u001b[1m)\u001b[22m\u001b[22m at \u001b[1m/home/mike/.julia/v0.6/Flux/src/tracker/lib.jl:196\u001b[22m\u001b[22m",
      " [87] \u001b[1mforeach\u001b[22m\u001b[22m\u001b[1m(\u001b[22m\u001b[22m::Function, ::Tuple{Flux.OneHotMatrix{Array{Flux.OneHotVector,1}},TrackedArray{…,Array{Float64,2}},Int64}, ::Tuple{Array{Float64,2},Array{Float64,2},Array{Float64,2}}, ::Vararg{Tuple{Array{Float64,2},Array{Float64,2},Array{Float64,2}},N} where N\u001b[1m)\u001b[22m\u001b[22m at \u001b[1m./abstractarray.jl:1732\u001b[22m\u001b[22m",
      " [88] \u001b[1mback_\u001b[22m\u001b[22m\u001b[1m(\u001b[22m\u001b[22m::Flux.Tracker.Call{Flux.Tracker.Broadcasted{Array{ForwardDiff.Dual{Void,Float64,3},2}},Tuple{Flux.OneHotMatrix{Array{Flux.OneHotVector,1}},TrackedArray{…,Array{Float64,2}},Int64}}, ::Array{Float64,2}, ::Array{Float64,2}\u001b[1m)\u001b[22m\u001b[22m at \u001b[1m/home/mike/.julia/v0.6/Flux/src/tracker/back.jl:16\u001b[22m\u001b[22m",
      " [89] \u001b[1mback\u001b[22m\u001b[22m\u001b[1m(\u001b[22m\u001b[22m::TrackedArray{…,Array{Float64,2}}, ::Array{Float64,2}\u001b[1m)\u001b[22m\u001b[22m at \u001b[1m/home/mike/.julia/v0.6/Flux/src/tracker/back.jl:25\u001b[22m\u001b[22m",
      " [90] \u001b[1mback\u001b[22m\u001b[22m\u001b[1m(\u001b[22m\u001b[22m::Base.#sum, ::Array{Float64,0}, ::TrackedArray{…,Array{Float64,2}}\u001b[1m)\u001b[22m\u001b[22m at \u001b[1m/home/mike/.julia/v0.6/Flux/src/tracker/lib.jl:59\u001b[22m\u001b[22m",
      " [91] \u001b[1mback_\u001b[22m\u001b[22m\u001b[1m(\u001b[22m\u001b[22m::Flux.Tracker.Call{Base.#sum,Tuple{TrackedArray{…,Array{Float64,2}}}}, ::Array{Float64,0}, ::Array{Float64,0}\u001b[1m)\u001b[22m\u001b[22m at \u001b[1m/home/mike/.julia/v0.6/Flux/src/tracker/back.jl:16\u001b[22m\u001b[22m",
      " [92] \u001b[1mback\u001b[22m\u001b[22m\u001b[1m(\u001b[22m\u001b[22m::TrackedArray{…,Array{Float64,0}}, ::Array{Float64,0}\u001b[1m)\u001b[22m\u001b[22m at \u001b[1m/home/mike/.julia/v0.6/Flux/src/tracker/back.jl:25\u001b[22m\u001b[22m",
      " [93] \u001b[1mback_\u001b[22m\u001b[22m\u001b[1m(\u001b[22m\u001b[22m::Flux.Tracker.Call{Base.#-,Tuple{TrackedArray{…,Array{Float64,0}}}}, ::Array{Float64,0}, ::Array{Float64,0}\u001b[1m)\u001b[22m\u001b[22m at \u001b[1m/home/mike/.julia/v0.6/Flux/src/tracker/back.jl:16\u001b[22m\u001b[22m",
      " [94] \u001b[1mback\u001b[22m\u001b[22m\u001b[1m(\u001b[22m\u001b[22m::TrackedArray{…,Array{Float64,0}}, ::Array{Float64,0}\u001b[1m)\u001b[22m\u001b[22m at \u001b[1m/home/mike/.julia/v0.6/Flux/src/tracker/back.jl:25\u001b[22m\u001b[22m",
      " [95] \u001b[1mmacro expansion\u001b[22m\u001b[22m at \u001b[1m/home/mike/.julia/v0.6/Flux/src/tracker/back.jl:33\u001b[22m\u001b[22m [inlined]",
      " [96] \u001b[1m(::Flux.Tracker.##36#38)\u001b[22m\u001b[22m\u001b[1m(\u001b[22m\u001b[22m::TrackedArray{…,Array{Float64,0}}, ::Array{Float64,0}\u001b[1m)\u001b[22m\u001b[22m at \u001b[1m/home/mike/.julia/v0.6/Flux/src/tracker/lib.jl:196\u001b[22m\u001b[22m",
      " [97] \u001b[1mforeach\u001b[22m\u001b[22m\u001b[1m(\u001b[22m\u001b[22m::Function, ::Tuple{TrackedArray{…,Array{Float64,0}},Int64}, ::Tuple{Array{Float64,0},Array{Float64,0}}, ::Vararg{Tuple{Array{Float64,0},Array{Float64,0}},N} where N\u001b[1m)\u001b[22m\u001b[22m at \u001b[1m./abstractarray.jl:1732\u001b[22m\u001b[22m",
      " [98] \u001b[1mback_\u001b[22m\u001b[22m\u001b[1m(\u001b[22m\u001b[22m::Flux.Tracker.Call{Flux.Tracker.Broadcasted{Array{ForwardDiff.Dual{Void,Float64,2},0}},Tuple{TrackedArray{…,Array{Float64,0}},Int64}}, ::Array{Float64,0}, ::Array{Float64,0}\u001b[1m)\u001b[22m\u001b[22m at \u001b[1m/home/mike/.julia/v0.6/Flux/src/tracker/back.jl:16\u001b[22m\u001b[22m",
      " [99] \u001b[1mback\u001b[22m\u001b[22m\u001b[1m(\u001b[22m\u001b[22m::TrackedArray{…,Array{Float64,0}}, ::Array{Float64,0}\u001b[1m)\u001b[22m\u001b[22m at \u001b[1m/home/mike/.julia/v0.6/Flux/src/tracker/back.jl:25\u001b[22m\u001b[22m",
      " [100] \u001b[1mmacro expansion\u001b[22m\u001b[22m at \u001b[1m/home/mike/.julia/v0.6/Flux/src/tracker/back.jl:33\u001b[22m\u001b[22m [inlined]",
      " [101] \u001b[1m(::Flux.Tracker.##36#38)\u001b[22m\u001b[22m\u001b[1m(\u001b[22m\u001b[22m::TrackedArray{…,Array{Float64,0}}, ::Array{Float64,0}\u001b[1m)\u001b[22m\u001b[22m at \u001b[1m/home/mike/.julia/v0.6/Flux/src/tracker/lib.jl:196\u001b[22m\u001b[22m",
      " [102] \u001b[1mforeach\u001b[22m\u001b[22m\u001b[1m(\u001b[22m\u001b[22m::Function, ::Tuple{TrackedArray{…,Array{Float64,0}},TrackedArray{…,Array{Float64,0}}}, ::Tuple{Array{Float64,0},Array{Float64,0}}, ::Vararg{Tuple{Array{Float64,0},Array{Float64,0}},N} where N\u001b[1m)\u001b[22m\u001b[22m at \u001b[1m./abstractarray.jl:1732\u001b[22m\u001b[22m",
      " [103] \u001b[1mback_\u001b[22m\u001b[22m\u001b[1m(\u001b[22m\u001b[22m::Flux.Tracker.Call{Flux.Tracker.Broadcasted{Array{ForwardDiff.Dual{Void,Float64,2},0}},Tuple{TrackedArray{…,Array{Float64,0}},TrackedArray{…,Array{Float64,0}}}}, ::Array{Float64,0}, ::Int64\u001b[1m)\u001b[22m\u001b[22m at \u001b[1m/home/mike/.julia/v0.6/Flux/src/tracker/back.jl:16\u001b[22m\u001b[22m",
      " [104] \u001b[1mback\u001b[22m\u001b[22m\u001b[1m(\u001b[22m\u001b[22m::TrackedArray{…,Array{Float64,0}}, ::Int64\u001b[1m)\u001b[22m\u001b[22m at \u001b[1m/home/mike/.julia/v0.6/Flux/src/tracker/back.jl:25\u001b[22m\u001b[22m",
      " [105] \u001b[1mback!\u001b[22m\u001b[22m\u001b[1m(\u001b[22m\u001b[22m::TrackedArray{…,Array{Float64,0}}\u001b[1m)\u001b[22m\u001b[22m at \u001b[1m/home/mike/.julia/v0.6/Flux/src/tracker/back.jl:47\u001b[22m\u001b[22m",
      " [106] \u001b[1mmacro expansion\u001b[22m\u001b[22m at \u001b[1m/home/mike/.julia/v0.6/Flux/src/optimise/train.jl:32\u001b[22m\u001b[22m [inlined]",
      " [107] \u001b[1mmacro expansion\u001b[22m\u001b[22m at \u001b[1m/home/mike/.julia/v0.6/Juno/src/progress.jl:128\u001b[22m\u001b[22m [inlined]",
      " [108] \u001b[1m#train!#130\u001b[22m\u001b[22m\u001b[1m(\u001b[22m\u001b[22m::Flux.#throttled#14, ::Function, ::Function, ::Base.Iterators.Zip2{Array{Array{Flux.OneHotMatrix{Array{Flux.OneHotVector,1}},1},1},Array{Array{Flux.OneHotMatrix{Array{Flux.OneHotVector,1}},1},1}}, ::Flux.Optimise.##71#75\u001b[1m)\u001b[22m\u001b[22m at \u001b[1m/home/mike/.julia/v0.6/Flux/src/optimise/train.jl:28\u001b[22m\u001b[22m",
      " [109] \u001b[1m(::Flux.Optimise.#kw##train!)\u001b[22m\u001b[22m\u001b[1m(\u001b[22m\u001b[22m::Array{Any,1}, ::Flux.Optimise.#train!, ::Function, ::Base.Iterators.Zip2{Array{Array{Flux.OneHotMatrix{Array{Flux.OneHotVector,1}},1},1},Array{Array{Flux.OneHotMatrix{Array{Flux.OneHotVector,1}},1},1}}, ::Function\u001b[1m)\u001b[22m\u001b[22m at \u001b[1m./<missing>:0\u001b[22m\u001b[22m",
      " [110] \u001b[1minclude_string\u001b[22m\u001b[22m\u001b[1m(\u001b[22m\u001b[22m::String, ::String\u001b[1m)\u001b[22m\u001b[22m at \u001b[1m./loading.jl:515\u001b[22m\u001b[22m"
     ]
    }
   ],
   "source": [
    "opt = ADAM(params(m), 0.01)\n",
    "evalcb = function ()\n",
    "  print_with_color(:blue, \"Loss is $(loss(Xs[5], Ys[5]).data[])\\n\")\n",
    "  println(sample(deepcopy(m), alphabet, 100))\n",
    "end\n",
    "Flux.train!(loss, zip(Xs, Ys), opt, cb = throttle(evalcb, 30))"
   ]
  },
  {
   "cell_type": "code",
   "execution_count": null,
   "metadata": {},
   "outputs": [],
   "source": []
  }
 ],
 "metadata": {
  "kernelspec": {
   "display_name": "Julia 0.6.0",
   "language": "julia",
   "name": "julia-0.6"
  },
  "language_info": {
   "file_extension": ".jl",
   "mimetype": "application/julia",
   "name": "julia",
   "version": "0.6.0"
  }
 },
 "nbformat": 4,
 "nbformat_minor": 2
}
